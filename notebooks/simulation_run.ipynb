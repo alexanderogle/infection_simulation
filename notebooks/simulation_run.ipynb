{
 "cells": [
  {
   "cell_type": "markdown",
   "metadata": {
    "toc": true
   },
   "source": [
    "<h1>Table of Contents<span class=\"tocSkip\"></span></h1>\n",
    "<div class=\"toc\"><ul class=\"toc-item\"><li><span><a href=\"#Preamble\" data-toc-modified-id=\"Preamble-1\"><span class=\"toc-item-num\">1&nbsp;&nbsp;</span>Preamble</a></span><ul class=\"toc-item\"><li><span><a href=\"#Imports\" data-toc-modified-id=\"Imports-1.1\"><span class=\"toc-item-num\">1.1&nbsp;&nbsp;</span>Imports</a></span></li><li><span><a href=\"#Classes\" data-toc-modified-id=\"Classes-1.2\"><span class=\"toc-item-num\">1.2&nbsp;&nbsp;</span>Classes</a></span></li><li><span><a href=\"#Functions\" data-toc-modified-id=\"Functions-1.3\"><span class=\"toc-item-num\">1.3&nbsp;&nbsp;</span>Functions</a></span></li><li><span><a href=\"#Environment\" data-toc-modified-id=\"Environment-1.4\"><span class=\"toc-item-num\">1.4&nbsp;&nbsp;</span>Environment</a></span></li></ul></li><li><span><a href=\"#Main\" data-toc-modified-id=\"Main-2\"><span class=\"toc-item-num\">2&nbsp;&nbsp;</span>Main</a></span><ul class=\"toc-item\"><li><span><a href=\"#First-Run-with-Default-Settings\" data-toc-modified-id=\"First-Run-with-Default-Settings-2.1\"><span class=\"toc-item-num\">2.1&nbsp;&nbsp;</span>First Run with Default Settings</a></span></li><li><span><a href=\"#Second-Run-using-restart-and-updating-a-setting\" data-toc-modified-id=\"Second-Run-using-restart-and-updating-a-setting-2.2\"><span class=\"toc-item-num\">2.2&nbsp;&nbsp;</span>Second Run using restart and updating a setting</a></span></li></ul></li></ul></div>"
   ]
  },
  {
   "cell_type": "markdown",
   "metadata": {},
   "source": [
    "# Preamble"
   ]
  },
  {
   "cell_type": "markdown",
   "metadata": {},
   "source": [
    "## Imports"
   ]
  },
  {
   "cell_type": "code",
   "execution_count": 1,
   "metadata": {},
   "outputs": [],
   "source": [
    "from simulation_run import SimulationRun"
   ]
  },
  {
   "cell_type": "markdown",
   "metadata": {},
   "source": [
    "## First Run with Default Settings"
   ]
  },
  {
   "cell_type": "code",
   "execution_count": 2,
   "metadata": {},
   "outputs": [
    {
     "name": "stdout",
     "output_type": "stream",
     "text": [
      "+ Synthesizing population.\n"
     ]
    }
   ],
   "source": [
    "sim = SimulationRun()"
   ]
  },
  {
   "cell_type": "code",
   "execution_count": 3,
   "metadata": {},
   "outputs": [
    {
     "name": "stdout",
     "output_type": "stream",
     "text": [
      "\n",
      "+ Day 0\n",
      "+ Population loaded.\n",
      "\n",
      "+ Day 1\n",
      "+ Population loaded.\n",
      "\n",
      "+ Day 2\n",
      "+ Population loaded.\n",
      "\n",
      "+ Day 3\n",
      "+ Population loaded.\n",
      "\n",
      "+ Day 4\n",
      "+ Population loaded.\n",
      "\n",
      "+ Day 5\n",
      "+ Population loaded.\n",
      "\n",
      "+ Day 6\n",
      "+ Population loaded.\n",
      "\n",
      "+ Day 7\n",
      "+ Population loaded.\n",
      "\n",
      "+ Day 8\n",
      "+ Population loaded.\n",
      "\n",
      "+ Day 9\n",
      "+ Population loaded.\n",
      "\n",
      "+ Day 10\n",
      "+ Population loaded.\n",
      "\n",
      "+ Day 11\n",
      "+ Population loaded.\n",
      "\n",
      "+ Day 12\n",
      "+ Population loaded.\n",
      "\n",
      "+ Day 13\n",
      "+ Population loaded.\n",
      "\n",
      "+ Day 14\n",
      "+ Population loaded.\n",
      "CPU times: user 53.8 s, sys: 502 ms, total: 54.3 s\n",
      "Wall time: 55.7 s\n"
     ]
    }
   ],
   "source": [
    "%%time \n",
    "sim.run()"
   ]
  },
  {
   "cell_type": "markdown",
   "metadata": {},
   "source": [
    "## Second Run using restart and updating a setting"
   ]
  },
  {
   "cell_type": "code",
   "execution_count": 4,
   "metadata": {},
   "outputs": [],
   "source": [
    "settings = {\n",
    "    'previous_run': sim,\n",
    "    'num_days': 2\n",
    "}"
   ]
  },
  {
   "cell_type": "code",
   "execution_count": 5,
   "metadata": {
    "scrolled": true
   },
   "outputs": [
    {
     "name": "stdout",
     "output_type": "stream",
     "text": [
      "+ Restarting from previous run.\n"
     ]
    }
   ],
   "source": [
    "sim2 = SimulationRun(settings)"
   ]
  },
  {
   "cell_type": "code",
   "execution_count": null,
   "metadata": {},
   "outputs": [
    {
     "name": "stdout",
     "output_type": "stream",
     "text": [
      "\n",
      "+ Day 15\n",
      "+ Population loaded.\n"
     ]
    }
   ],
   "source": [
    "%%time\n",
    "sim2.run()"
   ]
  },
  {
   "cell_type": "code",
   "execution_count": null,
   "metadata": {},
   "outputs": [],
   "source": []
  }
 ],
 "metadata": {
  "kernelspec": {
   "display_name": "Python 3",
   "language": "python",
   "name": "python3"
  },
  "language_info": {
   "codemirror_mode": {
    "name": "ipython",
    "version": 3
   },
   "file_extension": ".py",
   "mimetype": "text/x-python",
   "name": "python",
   "nbconvert_exporter": "python",
   "pygments_lexer": "ipython3",
   "version": "3.7.4"
  },
  "toc": {
   "base_numbering": 1,
   "nav_menu": {},
   "number_sections": true,
   "sideBar": true,
   "skip_h1_title": false,
   "title_cell": "Table of Contents",
   "title_sidebar": "Contents",
   "toc_cell": true,
   "toc_position": {
    "height": "calc(100% - 180px)",
    "left": "10px",
    "top": "150px",
    "width": "365.707px"
   },
   "toc_section_display": true,
   "toc_window_display": true
  }
 },
 "nbformat": 4,
 "nbformat_minor": 4
}
