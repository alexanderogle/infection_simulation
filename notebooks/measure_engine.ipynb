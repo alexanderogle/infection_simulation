{
 "cells": [
  {
   "cell_type": "markdown",
   "metadata": {
    "toc": true
   },
   "source": [
    "<h1>Table of Contents<span class=\"tocSkip\"></span></h1>\n",
    "<div class=\"toc\"><ul class=\"toc-item\"><li><span><a href=\"#Preamble\" data-toc-modified-id=\"Preamble-1\"><span class=\"toc-item-num\">1&nbsp;&nbsp;</span>Preamble</a></span><ul class=\"toc-item\"><li><span><a href=\"#Imports\" data-toc-modified-id=\"Imports-1.1\"><span class=\"toc-item-num\">1.1&nbsp;&nbsp;</span>Imports</a></span></li><li><span><a href=\"#Classes\" data-toc-modified-id=\"Classes-1.2\"><span class=\"toc-item-num\">1.2&nbsp;&nbsp;</span>Classes</a></span></li><li><span><a href=\"#Functions\" data-toc-modified-id=\"Functions-1.3\"><span class=\"toc-item-num\">1.3&nbsp;&nbsp;</span>Functions</a></span></li><li><span><a href=\"#Environment\" data-toc-modified-id=\"Environment-1.4\"><span class=\"toc-item-num\">1.4&nbsp;&nbsp;</span>Environment</a></span></li></ul></li><li><span><a href=\"#Main\" data-toc-modified-id=\"Main-2\"><span class=\"toc-item-num\">2&nbsp;&nbsp;</span>Main</a></span><ul class=\"toc-item\"><li><span><a href=\"#Population-Synthesis\" data-toc-modified-id=\"Population-Synthesis-2.1\"><span class=\"toc-item-num\">2.1&nbsp;&nbsp;</span>Population Synthesis</a></span></li></ul></li><li><span><a href=\"#Measure\" data-toc-modified-id=\"Measure-3\"><span class=\"toc-item-num\">3&nbsp;&nbsp;</span>Measure</a></span></li></ul></div>"
   ]
  },
  {
   "cell_type": "markdown",
   "metadata": {},
   "source": [
    "# Preamble"
   ]
  },
  {
   "cell_type": "markdown",
   "metadata": {},
   "source": [
    "## Imports"
   ]
  },
  {
   "cell_type": "code",
   "execution_count": 2,
   "metadata": {},
   "outputs": [],
   "source": [
    "import sys\n",
    "sys.path.append('../')\n",
    "sys.path.append('../model/')\n",
    "from simulation_run import SimulationRun\n",
    "\n",
    "import pandas as pd\n",
    "import numpy as np\n",
    "import sys\n",
    "import seaborn as sns\n",
    "import matplotlib.pyplot as plt\n",
    "sns.set()\n",
    "sns.set_context('notebook')"
   ]
  },
  {
   "cell_type": "markdown",
   "metadata": {},
   "source": [
    "## Classes"
   ]
  },
  {
   "cell_type": "markdown",
   "metadata": {},
   "source": [
    "## Functions"
   ]
  },
  {
   "cell_type": "code",
   "execution_count": 2,
   "metadata": {
    "code_folding": [
     0
    ]
   },
   "outputs": [],
   "source": [
    "def get_size(obj, seen=None):\n",
    "    \"\"\"Recursively finds size of objects\"\"\"\n",
    "    size = sys.getsizeof(obj)\n",
    "    if seen is None:\n",
    "        seen = set()\n",
    "    obj_id = id(obj)\n",
    "    if obj_id in seen:\n",
    "        return 0\n",
    "    # Important mark as seen *before* entering recursion to gracefully handle\n",
    "    # self-referential objects\n",
    "    seen.add(obj_id)\n",
    "    if isinstance(obj, dict):\n",
    "        size += sum([get_size(v, seen) for v in obj.values()])\n",
    "        size += sum([get_size(k, seen) for k in obj.keys()])\n",
    "    elif hasattr(obj, '__dict__'):\n",
    "        size += get_size(obj.__dict__, seen)\n",
    "    elif hasattr(obj, '__iter__') and not isinstance(obj, (str, bytes, bytearray)):\n",
    "        size += sum([get_size(i, seen) for i in obj])\n",
    "    return size"
   ]
  },
  {
   "cell_type": "markdown",
   "metadata": {},
   "source": [
    "## Environment"
   ]
  },
  {
   "cell_type": "code",
   "execution_count": 3,
   "metadata": {},
   "outputs": [],
   "source": [
    "num_people = 100"
   ]
  },
  {
   "cell_type": "code",
   "execution_count": 4,
   "metadata": {},
   "outputs": [],
   "source": [
    "mean_connections = 5"
   ]
  },
  {
   "cell_type": "code",
   "execution_count": 5,
   "metadata": {},
   "outputs": [],
   "source": [
    "num_days = 20"
   ]
  },
  {
   "cell_type": "code",
   "execution_count": 6,
   "metadata": {},
   "outputs": [],
   "source": [
    "days = []"
   ]
  },
  {
   "cell_type": "code",
   "execution_count": 7,
   "metadata": {},
   "outputs": [],
   "source": [
    "initial_states = {\n",
    "    'inf': 0.1,\n",
    "}"
   ]
  },
  {
   "cell_type": "code",
   "execution_count": 8,
   "metadata": {},
   "outputs": [],
   "source": [
    "pathogen = {\n",
    " 'infection_rate': 0.4,\n",
    " 'recovery_rate': 0.1,\n",
    " 'death_rate': 0.01,\n",
    " 'spontaneous_rate': 0.0,\n",
    " 'testing_accuracy': None,\n",
    " 'immunity_period': 10**2,\n",
    " 'contagious_period': 99,\n",
    " 'incubation_period': 0\n",
    "}"
   ]
  },
  {
   "cell_type": "markdown",
   "metadata": {},
   "source": [
    "# Main"
   ]
  },
  {
   "cell_type": "markdown",
   "metadata": {},
   "source": [
    "## Population Synthesis"
   ]
  },
  {
   "cell_type": "code",
   "execution_count": 9,
   "metadata": {},
   "outputs": [
    {
     "name": "stdout",
     "output_type": "stream",
     "text": [
      "+ Synthesizing population.\n"
     ]
    }
   ],
   "source": [
    "sim = SimulationRun(\n",
    "    num_people=num_people,\n",
    "    mean_connections=mean_connections,\n",
    "    initial_states=initial_states,\n",
    "    pathogen=pathogen,\n",
    "    num_days=num_days,\n",
    ")"
   ]
  },
  {
   "cell_type": "code",
   "execution_count": 10,
   "metadata": {},
   "outputs": [
    {
     "name": "stdout",
     "output_type": "stream",
     "text": [
      "\n",
      "+ Day 0\n",
      "+ PopulationEngine loaded.\n",
      "\n",
      "+ Day 1\n",
      "+ PopulationEngine loaded.\n",
      "\n",
      "+ Day 2\n",
      "+ PopulationEngine loaded.\n",
      "\n",
      "+ Day 3\n",
      "+ PopulationEngine loaded.\n",
      "\n",
      "+ Day 4\n",
      "+ PopulationEngine loaded.\n",
      "\n",
      "+ Day 5\n",
      "+ PopulationEngine loaded.\n",
      "\n",
      "+ Day 6\n",
      "+ PopulationEngine loaded.\n",
      "\n",
      "+ Day 7\n",
      "+ PopulationEngine loaded.\n",
      "\n",
      "+ Day 8\n",
      "+ PopulationEngine loaded.\n",
      "\n",
      "+ Day 9\n",
      "+ PopulationEngine loaded.\n",
      "\n",
      "+ Day 10\n",
      "+ PopulationEngine loaded.\n",
      "\n",
      "+ Day 11\n",
      "+ PopulationEngine loaded.\n",
      "\n",
      "+ Day 12\n",
      "+ PopulationEngine loaded.\n",
      "\n",
      "+ Day 13\n",
      "+ PopulationEngine loaded.\n",
      "\n",
      "+ Day 14\n",
      "+ PopulationEngine loaded.\n",
      "\n",
      "+ Day 15\n",
      "+ PopulationEngine loaded.\n",
      "\n",
      "+ Day 16\n",
      "+ PopulationEngine loaded.\n",
      "\n",
      "+ Day 17\n",
      "+ PopulationEngine loaded.\n",
      "\n",
      "+ Day 18\n",
      "+ PopulationEngine loaded.\n",
      "\n",
      "+ Day 19\n",
      "+ PopulationEngine loaded.\n",
      "CPU times: user 1min 13s, sys: 703 ms, total: 1min 14s\n",
      "Wall time: 1min 16s\n"
     ]
    }
   ],
   "source": [
    "%%time \n",
    "sim.run()"
   ]
  },
  {
   "cell_type": "markdown",
   "metadata": {},
   "source": [
    "# Measure"
   ]
  },
  {
   "cell_type": "code",
   "execution_count": 13,
   "metadata": {},
   "outputs": [],
   "source": [
    "days = sim.days"
   ]
  },
  {
   "cell_type": "code",
   "execution_count": 14,
   "metadata": {},
   "outputs": [],
   "source": [
    "measurements = []"
   ]
  },
  {
   "cell_type": "code",
   "execution_count": 15,
   "metadata": {},
   "outputs": [],
   "source": [
    "for i,day in enumerate(days):\n",
    "    try:\n",
    "        inf = day.starting_population.state.value_counts()['inf']\n",
    "    except:\n",
    "        inf = 0\n",
    "    try:\n",
    "        sus = day.starting_population.state.value_counts()['sus']\n",
    "    except:\n",
    "        sus = 0\n",
    "    try:\n",
    "        dead = day.starting_population.state.value_counts()['dead']\n",
    "    except:\n",
    "        dead = 0\n",
    "        \n",
    "    imm = sum(day.starting_population.immunity > 0)\n",
    "\n",
    "    measure = {\n",
    "        'day': i,\n",
    "        'inf': inf,\n",
    "        'sus': sus,\n",
    "        'dead': dead,\n",
    "        'imm': imm\n",
    "    }\n",
    "\n",
    "    measurements.append(measure)"
   ]
  },
  {
   "cell_type": "code",
   "execution_count": 16,
   "metadata": {},
   "outputs": [],
   "source": [
    "data = pd.DataFrame(measurements)\n",
    "data['sus_minus_imm'] = data.sus - data.imm\n",
    "data['total_people'] = data.inf + data.sus"
   ]
  },
  {
   "cell_type": "code",
   "execution_count": 22,
   "metadata": {},
   "outputs": [],
   "source": [
    "sns.set()\n",
    "sns.set_context('notebook')"
   ]
  },
  {
   "cell_type": "code",
   "execution_count": 29,
   "metadata": {},
   "outputs": [
    {
     "data": {
      "image/png": "[encoded data removed]",
      "text/plain": [
       "<Figure size 864x576 with 1 Axes>"
      ]
     },
     "metadata": {},
     "output_type": "display_data"
    }
   ],
   "source": [
    "title = (\n",
    "    '''\n",
    "    No. People: {np}\n",
    "    Avg. Connections: {ac}\n",
    "    No. Days: {nd}\n",
    "    Init. Infected: {ii}\n",
    "    alpha: {ir}\n",
    "    beta: {rr}\n",
    "    \n",
    "    '''\n",
    "    .format(\n",
    "        np=num_people,\n",
    "        ac=mean_connections,\n",
    "        ir=pathogen['infection_rate'],\n",
    "        rr=pathogen['recovery_rate'],\n",
    "        nd=num_days,\n",
    "        ii=initial_states['inf']\n",
    "    )\n",
    ")\n",
    "fig = plt.figure(figsize=(12,8))\n",
    "ax = plt.gca()\n",
    "sns.lineplot(x='day',y='sus_minus_imm',data=data,ax=ax,label='Susceptible')\n",
    "sns.lineplot(x='day',y='inf',data=data,ax=ax,label='Infected')\n",
    "sns.lineplot(x='day',y='imm',data=data,ax=ax,label='Recovered')\n",
    "sns.lineplot(x='day',y='total_people',data=data,ax=ax,label='Total People')\n",
    "_ = ax.set(xlabel='Day',ylabel='Count',title=title)"
   ]
  },
  {
   "cell_type": "code",
   "execution_count": 28,
   "metadata": {},
   "outputs": [
    {
     "data": {
      "image/png": "[encoded data removed]",
      "text/plain": [
       "<Figure size 864x576 with 1 Axes>"
      ]
     },
     "metadata": {},
     "output_type": "display_data"
    }
   ],
   "source": [
    "fig = plt.figure(figsize=(12,8))\n",
    "ax = plt.gca()\n",
    "sns.set(context='notebook')\n",
    "sns.barplot(x='index',y='infected_by',data=df.reset_index(),ax=ax)\n",
    "_ = ax.set(\n",
    "    title='Agent Infectiousness',\n",
    "    xlabel='Agent',\n",
    "    ylabel='No. Infected'\n",
    ")\n"
   ]
  },
  {
   "cell_type": "code",
   "execution_count": null,
   "metadata": {},
   "outputs": [],
   "source": []
  }
 ],
 "metadata": {
  "kernelspec": {
   "display_name": "Python 3",
   "language": "python",
   "name": "python3"
  },
  "language_info": {
   "codemirror_mode": {
    "name": "ipython",
    "version": 3
   },
   "file_extension": ".py",
   "mimetype": "text/x-python",
   "name": "python",
   "nbconvert_exporter": "python",
   "pygments_lexer": "ipython3",
   "version": "3.7.7"
  },
  "toc": {
   "base_numbering": 1,
   "nav_menu": {},
   "number_sections": true,
   "sideBar": true,
   "skip_h1_title": false,
   "title_cell": "Table of Contents",
   "title_sidebar": "Contents",
   "toc_cell": true,
   "toc_position": {
    "height": "calc(100% - 180px)",
    "left": "10px",
    "top": "150px",
    "width": "365.708px"
   },
   "toc_section_display": true,
   "toc_window_display": true
  }
 },
 "nbformat": 4,
 "nbformat_minor": 4
}
