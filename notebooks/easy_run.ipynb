{
 "cells": [
  {
   "cell_type": "markdown",
   "metadata": {
    "toc": true
   },
   "source": [
    "<h1>Table of Contents<span class=\"tocSkip\"></span></h1>\n",
    "<div class=\"toc\"><ul class=\"toc-item\"><li><span><a href=\"#Adjust-These\" data-toc-modified-id=\"Adjust-These-1\"><span class=\"toc-item-num\">1&nbsp;&nbsp;</span>Adjust These</a></span></li><li><span><a href=\"#Preamble\" data-toc-modified-id=\"Preamble-2\"><span class=\"toc-item-num\">2&nbsp;&nbsp;</span>Preamble</a></span><ul class=\"toc-item\"><li><span><a href=\"#Imports\" data-toc-modified-id=\"Imports-2.1\"><span class=\"toc-item-num\">2.1&nbsp;&nbsp;</span>Imports</a></span></li><li><span><a href=\"#Classes\" data-toc-modified-id=\"Classes-2.2\"><span class=\"toc-item-num\">2.2&nbsp;&nbsp;</span>Classes</a></span></li><li><span><a href=\"#Functions\" data-toc-modified-id=\"Functions-2.3\"><span class=\"toc-item-num\">2.3&nbsp;&nbsp;</span>Functions</a></span></li></ul></li><li><span><a href=\"#Main\" data-toc-modified-id=\"Main-3\"><span class=\"toc-item-num\">3&nbsp;&nbsp;</span>Main</a></span></li><li><span><a href=\"#Measure\" data-toc-modified-id=\"Measure-4\"><span class=\"toc-item-num\">4&nbsp;&nbsp;</span>Measure</a></span></li></ul></div>"
   ]
  },
  {
   "cell_type": "markdown",
   "metadata": {},
   "source": [
    "# Adjust These"
   ]
  },
  {
   "cell_type": "code",
   "execution_count": 1,
   "metadata": {},
   "outputs": [],
   "source": [
    "num_people = 100\n",
    "mean_connections = 5\n",
    "num_days = 4\n",
    "initial_states = {\n",
    "    'inf': 0.1,\n",
    "}\n",
    "infection_rate = 0.1\n",
    "recovery_rate = 0.1\n",
    "death_rate = 0.00"
   ]
  },
  {
   "cell_type": "markdown",
   "metadata": {},
   "source": [
    "# Preamble"
   ]
  },
  {
   "cell_type": "markdown",
   "metadata": {},
   "source": [
    "## Imports"
   ]
  },
  {
   "cell_type": "code",
   "execution_count": 2,
   "metadata": {},
   "outputs": [],
   "source": [
    "from simulation_run import SimulationRun\n",
    "import pandas as pd\n",
    "import numpy as np\n",
    "import sys\n",
    "import seaborn as sns\n",
    "import matplotlib.pyplot as plt\n",
    "sns.set()\n",
    "sns.set_context('notebook')"
   ]
  },
  {
   "cell_type": "markdown",
   "metadata": {},
   "source": [
    "## Classes"
   ]
  },
  {
   "cell_type": "markdown",
   "metadata": {},
   "source": [
    "## Functions"
   ]
  },
  {
   "cell_type": "code",
   "execution_count": 3,
   "metadata": {},
   "outputs": [],
   "source": [
    "pathogen = {\n",
    " 'infection_rate': infection_rate,\n",
    " 'recovery_rate': recovery_rate,\n",
    " 'death_rate': death_rate,\n",
    " 'spontaneous_rate': 0.0,\n",
    " 'testing_accuracy': None,\n",
    " 'immunity_period': 10**2,\n",
    " 'contagious_period': 99,\n",
    " 'incubation_period': 0\n",
    "}"
   ]
  },
  {
   "cell_type": "markdown",
   "metadata": {},
   "source": [
    "# Main"
   ]
  },
  {
   "cell_type": "code",
   "execution_count": 4,
   "metadata": {},
   "outputs": [
    {
     "name": "stdout",
     "output_type": "stream",
     "text": [
      "+ Synthesizing population.\n"
     ]
    }
   ],
   "source": [
    "sim = SimulationRun(\n",
    "    num_people=num_people,\n",
    "    mean_connections=mean_connections,\n",
    "    initial_states=initial_states,\n",
    "    pathogen=pathogen,\n",
    "    num_days=num_days,\n",
    ")"
   ]
  },
  {
   "cell_type": "code",
   "execution_count": 5,
   "metadata": {},
   "outputs": [
    {
     "name": "stdout",
     "output_type": "stream",
     "text": [
      "\n",
      "+ Day 0\n",
      "+ Population loaded.\n",
      "\n",
      "+ Day 1\n",
      "+ Population loaded.\n",
      "\n",
      "+ Day 2\n",
      "+ Population loaded.\n",
      "\n",
      "+ Day 3\n",
      "+ Population loaded.\n",
      "CPU times: user 12.7 s, sys: 127 ms, total: 12.8 s\n",
      "Wall time: 13.3 s\n"
     ]
    }
   ],
   "source": [
    "%%time \n",
    "sim.run()"
   ]
  },
  {
   "cell_type": "markdown",
   "metadata": {},
   "source": [
    "# Measure"
   ]
  },
  {
   "cell_type": "code",
   "execution_count": 6,
   "metadata": {},
   "outputs": [],
   "source": [
    "days = sim.days"
   ]
  },
  {
   "cell_type": "code",
   "execution_count": 7,
   "metadata": {},
   "outputs": [],
   "source": [
    "measurements = []"
   ]
  },
  {
   "cell_type": "code",
   "execution_count": 8,
   "metadata": {},
   "outputs": [],
   "source": [
    "for i,day in enumerate(days):\n",
    "    try:\n",
    "        inf = day.starting_population.state.value_counts()['inf']\n",
    "    except:\n",
    "        inf = 0\n",
    "    try:\n",
    "        sus = day.starting_population.state.value_counts()['sus']\n",
    "    except:\n",
    "        sus = 0\n",
    "    try:\n",
    "        dead = day.starting_population.state.value_counts()['dead']\n",
    "    except:\n",
    "        dead = 0\n",
    "        \n",
    "    imm = sum(day.starting_population.immunity > 0)\n",
    "\n",
    "    measure = {\n",
    "        'day': i,\n",
    "        'inf': inf,\n",
    "        'sus': sus,\n",
    "        'dead': dead,\n",
    "        'imm': imm\n",
    "    }\n",
    "\n",
    "    measurements.append(measure)"
   ]
  },
  {
   "cell_type": "code",
   "execution_count": 9,
   "metadata": {},
   "outputs": [],
   "source": [
    "data = pd.DataFrame(measurements)\n",
    "data['sus_minus_imm'] = data.sus - data.imm\n",
    "data['total_people'] = data.inf + data.sus + data.dead"
   ]
  },
  {
   "cell_type": "code",
   "execution_count": 10,
   "metadata": {},
   "outputs": [],
   "source": [
    "sns.set()\n",
    "sns.set_context('notebook')"
   ]
  },
  {
   "cell_type": "code",
   "execution_count": 15,
   "metadata": {},
   "outputs": [
    {
     "data": {
      "image/png": "[encoded data removed]",
      "text/plain": [
       "<Figure size 864x576 with 1 Axes>"
      ]
     },
     "metadata": {},
     "output_type": "display_data"
    }
   ],
   "source": [
    "title = (\n",
    "    '''\n",
    "    No. People: {np}\n",
    "    Avg. Connections: {ac}\n",
    "    No. Days: {nd}\n",
    "    Init. Infected: {ii}\n",
    "    alpha: {ir}\n",
    "    beta: {rr}\n",
    "    \n",
    "    '''\n",
    "    .format(\n",
    "        np=num_people,\n",
    "        ac=mean_connections,\n",
    "        ir=pathogen['infection_rate'],\n",
    "        rr=pathogen['recovery_rate'],\n",
    "        nd=num_days,\n",
    "        ii=initial_states['inf']\n",
    "    )\n",
    ")\n",
    "fig = plt.figure(figsize=(12,8))\n",
    "ax = plt.gca()\n",
    "sns.lineplot(x='day',y='sus_minus_imm',data=data,ax=ax,label='Susceptible')\n",
    "sns.lineplot(x='day',y='inf',data=data,ax=ax,label='Infected')\n",
    "sns.lineplot(x='day',y='imm',data=data,ax=ax,label='Recovered')\n",
    "sns.lineplot(x='day',y='total_people',data=data,ax=ax,label='Total People')\n",
    "sns.lineplot(x='day',y='dead',data=data,ax=ax,label='Died')\n",
    "_ = ax.set(xlabel='Day',ylabel='Count',title=title)"
   ]
  },
  {
   "cell_type": "code",
   "execution_count": null,
   "metadata": {},
   "outputs": [],
   "source": []
  }
 ],
 "metadata": {
  "kernelspec": {
   "display_name": "Python 3",
   "language": "python",
   "name": "python3"
  },
  "language_info": {
   "codemirror_mode": {
    "name": "ipython",
    "version": 3
   },
   "file_extension": ".py",
   "mimetype": "text/x-python",
   "name": "python",
   "nbconvert_exporter": "python",
   "pygments_lexer": "ipython3",
   "version": "3.7.4"
  },
  "toc": {
   "base_numbering": 1,
   "nav_menu": {},
   "number_sections": true,
   "sideBar": true,
   "skip_h1_title": false,
   "title_cell": "Table of Contents",
   "title_sidebar": "Contents",
   "toc_cell": true,
   "toc_position": {
    "height": "calc(100% - 180px)",
    "left": "10px",
    "top": "150px",
    "width": "365.708px"
   },
   "toc_section_display": true,
   "toc_window_display": true
  }
 },
 "nbformat": 4,
 "nbformat_minor": 4
}
