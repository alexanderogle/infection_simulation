{
 "cells": [
  {
   "cell_type": "markdown",
   "metadata": {
    "toc": true
   },
   "source": [
    "<h1>Table of Contents<span class=\"tocSkip\"></span></h1>\n",
    "<div class=\"toc\"><ul class=\"toc-item\"><li><span><a href=\"#Preamble\" data-toc-modified-id=\"Preamble-1\"><span class=\"toc-item-num\">1&nbsp;&nbsp;</span>Preamble</a></span><ul class=\"toc-item\"><li><span><a href=\"#Imports\" data-toc-modified-id=\"Imports-1.1\"><span class=\"toc-item-num\">1.1&nbsp;&nbsp;</span>Imports</a></span></li><li><span><a href=\"#Functions\" data-toc-modified-id=\"Functions-1.2\"><span class=\"toc-item-num\">1.2&nbsp;&nbsp;</span>Functions</a></span></li><li><span><a href=\"#Environment\" data-toc-modified-id=\"Environment-1.3\"><span class=\"toc-item-num\">1.3&nbsp;&nbsp;</span>Environment</a></span></li></ul></li><li><span><a href=\"#Day\" data-toc-modified-id=\"Day-2\"><span class=\"toc-item-num\">2&nbsp;&nbsp;</span>Day</a></span></li></ul></div>"
   ]
  },
  {
   "cell_type": "markdown",
   "metadata": {},
   "source": [
    "# Preamble"
   ]
  },
  {
   "cell_type": "markdown",
   "metadata": {},
   "source": [
    "## Imports"
   ]
  },
  {
   "cell_type": "code",
   "execution_count": 1,
   "metadata": {},
   "outputs": [],
   "source": [
    "from connection_engine import ConnectionEngine\n",
    "from interaction_engine import InteractionEngine, pathogen\n",
    "from population_engine import PopulationEngine\n",
    "from update_engine import UpdateEngine\n",
    "from settings import SimfectionSettings"
   ]
  },
  {
   "cell_type": "markdown",
   "metadata": {},
   "source": [
    "## Functions"
   ]
  },
  {
   "cell_type": "markdown",
   "metadata": {},
   "source": [
    "## Environment"
   ]
  },
  {
   "cell_type": "markdown",
   "metadata": {},
   "source": [
    "# Day"
   ]
  },
  {
   "cell_type": "code",
   "execution_count": 2,
   "metadata": {},
   "outputs": [
    {
     "name": "stdout",
     "output_type": "stream",
     "text": [
      "2020-06-06 20:49:05,640  simfection  INFO  + Initializing Simfection settings.\n",
      "2020-06-06 20:49:05,642  simfection  DEBUG  - Reading defaults.\n",
      "2020-06-06 20:49:05,644  simfection  INFO  + Setting custom settings.\n",
      "2020-06-06 20:49:05,646  simfection  DEBUG  - Setting verbose to True.\n"
     ]
    }
   ],
   "source": [
    "settings = SimfectionSettings(settings={'verbose':True})"
   ]
  },
  {
   "cell_type": "code",
   "execution_count": 3,
   "metadata": {},
   "outputs": [
    {
     "name": "stdout",
     "output_type": "stream",
     "text": [
      "2020-06-06 20:49:05,658  simfection  DEBUG  + Initializing population engine.\n",
      "2020-06-06 20:49:05,660  simfection  DEBUG  - Unloading settings.\n",
      "2020-06-06 20:49:05,663  simfection  INFO  + Synthesizing population.\n"
     ]
    }
   ],
   "source": [
    "population = PopulationEngine(settings)\n",
    "population.synthesize_population()"
   ]
  },
  {
   "cell_type": "code",
   "execution_count": 4,
   "metadata": {},
   "outputs": [
    {
     "name": "stdout",
     "output_type": "stream",
     "text": [
      "2020-06-06 20:49:05,766  simfection  DEBUG  + Initializing connection engine.\n"
     ]
    }
   ],
   "source": [
    "connection_engine = ConnectionEngine(\n",
    "    population=population._df,\n",
    "    settings=settings\n",
    ")"
   ]
  },
  {
   "cell_type": "code",
   "execution_count": 5,
   "metadata": {},
   "outputs": [
    {
     "name": "stdout",
     "output_type": "stream",
     "text": [
      "2020-06-06 20:49:06,287  simfection  DEBUG  - Creating connections.\n",
      "2020-06-06 20:49:06,297  numexpr.utils  INFO  NumExpr defaulting to 4 threads.\n",
      "2020-06-06 20:49:06,591  simfection  DEBUG  0% complete\n",
      "2020-06-06 20:49:06,857  simfection  DEBUG  10% complete\n",
      "2020-06-06 20:49:07,274  simfection  DEBUG  20% complete\n",
      "2020-06-06 20:49:07,607  simfection  DEBUG  30% complete\n",
      "2020-06-06 20:49:07,790  simfection  DEBUG  40% complete\n",
      "2020-06-06 20:49:07,910  simfection  DEBUG  50% complete\n",
      "2020-06-06 20:49:08,069  simfection  DEBUG  60% complete\n",
      "2020-06-06 20:49:08,211  simfection  DEBUG  70% complete\n",
      "2020-06-06 20:49:08,299  simfection  DEBUG  80% complete\n",
      "2020-06-06 20:49:08,355  simfection  DEBUG  90% complete\n",
      "2020-06-06 20:49:08,372  simfection  DEBUG  100& complete.\n"
     ]
    }
   ],
   "source": [
    "connection_engine.create_connections()"
   ]
  },
  {
   "cell_type": "code",
   "execution_count": 6,
   "metadata": {},
   "outputs": [
    {
     "name": "stdout",
     "output_type": "stream",
     "text": [
      "2020-06-06 20:49:08,385  simfection  DEBUG  + Initializing interaction engine.\n",
      "CPU times: user 1.59 ms, sys: 1.54 ms, total: 3.14 ms\n",
      "Wall time: 8.41 ms\n"
     ]
    }
   ],
   "source": [
    "%%time\n",
    "interaction_engine = InteractionEngine(\n",
    "    connections=connection_engine.connections,\n",
    "    settings=settings,\n",
    "    population=connection_engine.population\n",
    ")"
   ]
  },
  {
   "cell_type": "code",
   "execution_count": 7,
   "metadata": {},
   "outputs": [
    {
     "name": "stdout",
     "output_type": "stream",
     "text": [
      "2020-06-06 20:49:10,178  simfection  DEBUG  - Getting unique connections.\n",
      "2020-06-06 20:49:10,242  simfection  DEBUG  - Running all interactions.\n",
      "inf    87\n",
      "sus    13\n",
      "Name: state, dtype: int64\n"
     ]
    }
   ],
   "source": [
    "interaction_engine.interact_all()"
   ]
  },
  {
   "cell_type": "code",
   "execution_count": null,
   "metadata": {},
   "outputs": [],
   "source": [
    "%%time\n",
    "update_engine = UpdateEngine(\n",
    "    population=interaction_engine.population,\n",
    "    settings=settings\n",
    ")"
   ]
  },
  {
   "cell_type": "code",
   "execution_count": null,
   "metadata": {},
   "outputs": [],
   "source": [
    "%%time\n",
    "update_engine.update_all(\n",
    "    verbose=True\n",
    ")"
   ]
  },
  {
   "cell_type": "code",
   "execution_count": null,
   "metadata": {},
   "outputs": [],
   "source": [
    "population._df.state.value_counts()"
   ]
  }
 ],
 "metadata": {
  "kernelspec": {
   "display_name": "Python 3",
   "language": "python",
   "name": "python3"
  },
  "language_info": {
   "codemirror_mode": {
    "name": "ipython",
    "version": 3
   },
   "file_extension": ".py",
   "mimetype": "text/x-python",
   "name": "python",
   "nbconvert_exporter": "python",
   "pygments_lexer": "ipython3",
   "version": "3.7.4"
  },
  "toc": {
   "base_numbering": 1,
   "nav_menu": {},
   "number_sections": true,
   "sideBar": true,
   "skip_h1_title": false,
   "title_cell": "Table of Contents",
   "title_sidebar": "Contents",
   "toc_cell": true,
   "toc_position": {
    "height": "calc(100% - 180px)",
    "left": "10px",
    "top": "150px",
    "width": "365.714px"
   },
   "toc_section_display": true,
   "toc_window_display": true
  }
 },
 "nbformat": 4,
 "nbformat_minor": 4
}
