{
 "cells": [
  {
   "cell_type": "markdown",
   "metadata": {
    "toc": true
   },
   "source": [
    "<h1>Table of Contents<span class=\"tocSkip\"></span></h1>\n",
    "<div class=\"toc\"><ul class=\"toc-item\"><li><span><a href=\"#Preamble\" data-toc-modified-id=\"Preamble-1\"><span class=\"toc-item-num\">1&nbsp;&nbsp;</span>Preamble</a></span><ul class=\"toc-item\"><li><span><a href=\"#Imports\" data-toc-modified-id=\"Imports-1.1\"><span class=\"toc-item-num\">1.1&nbsp;&nbsp;</span>Imports</a></span></li></ul></li><li><span><a href=\"#Main\" data-toc-modified-id=\"Main-2\"><span class=\"toc-item-num\">2&nbsp;&nbsp;</span>Main</a></span></li></ul></div>"
   ]
  },
  {
   "cell_type": "markdown",
   "metadata": {},
   "source": [
    "# Preamble"
   ]
  },
  {
   "cell_type": "markdown",
   "metadata": {},
   "source": [
    "## Imports"
   ]
  },
  {
   "cell_type": "code",
   "execution_count": 2,
   "metadata": {},
   "outputs": [],
   "source": [
    "import sys\n",
    "sys.path.append('../')\n",
    "sys.path.append('../model/')\n",
    "from settings import SimfectionSettings\n",
    "from population_engine import PopulationEngine\n",
    "from simulation_day import SimulationDay"
   ]
  },
  {
   "cell_type": "markdown",
   "metadata": {},
   "source": [
    "# Main"
   ]
  },
  {
   "cell_type": "code",
   "execution_count": 2,
   "metadata": {
    "code_folding": [
     0
    ]
   },
   "outputs": [
    {
     "name": "stdout",
     "output_type": "stream",
     "text": [
      "2020-06-06 21:03:41,080  simfection  INFO  + Initializing Simfection settings.\n",
      "2020-06-06 21:03:41,086  simfection  DEBUG  - Reading defaults.\n",
      "2020-06-06 21:03:41,101  simfection  INFO  + Setting custom settings.\n",
      "2020-06-06 21:03:41,107  simfection  DEBUG  - Setting verbose to False.\n"
     ]
    }
   ],
   "source": [
    "settings = SimfectionSettings(settings={'verbose':False})"
   ]
  },
  {
   "cell_type": "code",
   "execution_count": 3,
   "metadata": {},
   "outputs": [
    {
     "name": "stdout",
     "output_type": "stream",
     "text": [
      "2020-06-06 21:03:41,136  simfection  DEBUG  + Initializing population engine.\n",
      "2020-06-06 21:03:41,141  simfection  DEBUG  - Unloading settings.\n",
      "2020-06-06 21:03:41,144  simfection  INFO  + Synthesizing population.\n"
     ]
    }
   ],
   "source": [
    "population = PopulationEngine(settings)\n",
    "population.synthesize_population()"
   ]
  },
  {
   "cell_type": "code",
   "execution_count": 4,
   "metadata": {},
   "outputs": [
    {
     "name": "stdout",
     "output_type": "stream",
     "text": [
      "2020-06-06 21:03:41,176  simfection  INFO  + Initializing day None.\n",
      "2020-06-06 21:03:41,178  simfection  INFO  + Population loaded.\n",
      "2020-06-06 21:03:41,186  simfection  DEBUG  + Saving starting population.\n"
     ]
    }
   ],
   "source": [
    "day = SimulationDay(\n",
    "            population=population,\n",
    "            settings=settings\n",
    "        )"
   ]
  },
  {
   "cell_type": "code",
   "execution_count": 5,
   "metadata": {
    "scrolled": true
   },
   "outputs": [
    {
     "name": "stdout",
     "output_type": "stream",
     "text": [
      "2020-06-06 21:03:41,208  simfection  DEBUG  + Initializing connection engine.\n",
      "2020-06-06 21:03:41,211  simfection  DEBUG  - Creating connections.\n",
      "2020-06-06 21:03:41,241  numexpr.utils  INFO  NumExpr defaulting to 4 threads.\n",
      "2020-06-06 21:03:41,557  simfection  DEBUG  0% complete\n",
      "2020-06-06 21:03:41,826  simfection  DEBUG  10% complete\n",
      "2020-06-06 21:03:42,103  simfection  DEBUG  20% complete\n",
      "2020-06-06 21:03:42,374  simfection  DEBUG  30% complete\n",
      "2020-06-06 21:03:42,614  simfection  DEBUG  40% complete\n",
      "2020-06-06 21:03:42,886  simfection  DEBUG  50% complete\n",
      "2020-06-06 21:03:43,103  simfection  DEBUG  60% complete\n",
      "2020-06-06 21:03:43,130  simfection  DEBUG  70% complete\n",
      "2020-06-06 21:03:43,276  simfection  DEBUG  80% complete\n",
      "2020-06-06 21:03:43,328  simfection  DEBUG  90% complete\n",
      "2020-06-06 21:03:43,347  simfection  DEBUG  100& complete.\n",
      "2020-06-06 21:03:43,350  simfection  DEBUG  + Initializing interaction engine.\n",
      "2020-06-06 21:03:43,353  simfection  DEBUG  - Getting unique connections.\n",
      "2020-06-06 21:03:43,412  simfection  DEBUG  - Running all interactions.\n",
      "2020-06-06 21:03:45,155  simfection  DEBUG  + Initializing update engine.\n",
      "2020-06-06 21:03:45,156  simfection  DEBUG  - Reading pathogen.\n",
      "2020-06-06 21:03:45,157  simfection  DEBUG  + Running update engine.\n",
      "2020-06-06 21:03:45,159  simfection  DEBUG  - Updating states.\n",
      "2020-06-06 21:03:45,171  simfection  DEBUG  - Updating recovered.\n",
      "2020-06-06 21:03:45,178  simfection  DEBUG  - Updating infected.\n",
      "2020-06-06 21:03:45,188  simfection  DEBUG  - Updating immnue.\n",
      "2020-06-06 21:03:45,196  simfection  DEBUG  - Updates complete.\n",
      "2020-06-06 21:03:45,197  simfection  DEBUG  - Day ran successfully.\n"
     ]
    }
   ],
   "source": [
    "day.run()"
   ]
  },
  {
   "cell_type": "code",
   "execution_count": 6,
   "metadata": {},
   "outputs": [
    {
     "data": {
      "text/html": [
       "<div>\n",
       "<style scoped>\n",
       "    .dataframe tbody tr th:only-of-type {\n",
       "        vertical-align: middle;\n",
       "    }\n",
       "\n",
       "    .dataframe tbody tr th {\n",
       "        vertical-align: top;\n",
       "    }\n",
       "\n",
       "    .dataframe thead th {\n",
       "        text-align: right;\n",
       "    }\n",
       "</style>\n",
       "<table border=\"1\" class=\"dataframe\">\n",
       "  <thead>\n",
       "    <tr style=\"text-align: right;\">\n",
       "      <th></th>\n",
       "      <th>agent</th>\n",
       "      <th>state</th>\n",
       "      <th>infected_by</th>\n",
       "      <th>days_infected</th>\n",
       "      <th>immunity</th>\n",
       "    </tr>\n",
       "  </thead>\n",
       "  <tbody>\n",
       "    <tr>\n",
       "      <th>0</th>\n",
       "      <td>0</td>\n",
       "      <td>sus</td>\n",
       "      <td>None</td>\n",
       "      <td>0</td>\n",
       "      <td>0</td>\n",
       "    </tr>\n",
       "    <tr>\n",
       "      <th>1</th>\n",
       "      <td>1</td>\n",
       "      <td>inf</td>\n",
       "      <td>None</td>\n",
       "      <td>0</td>\n",
       "      <td>0</td>\n",
       "    </tr>\n",
       "    <tr>\n",
       "      <th>2</th>\n",
       "      <td>2</td>\n",
       "      <td>sus</td>\n",
       "      <td>None</td>\n",
       "      <td>0</td>\n",
       "      <td>0</td>\n",
       "    </tr>\n",
       "    <tr>\n",
       "      <th>3</th>\n",
       "      <td>3</td>\n",
       "      <td>inf</td>\n",
       "      <td>None</td>\n",
       "      <td>0</td>\n",
       "      <td>0</td>\n",
       "    </tr>\n",
       "    <tr>\n",
       "      <th>4</th>\n",
       "      <td>4</td>\n",
       "      <td>sus</td>\n",
       "      <td>None</td>\n",
       "      <td>0</td>\n",
       "      <td>0</td>\n",
       "    </tr>\n",
       "    <tr>\n",
       "      <th>...</th>\n",
       "      <td>...</td>\n",
       "      <td>...</td>\n",
       "      <td>...</td>\n",
       "      <td>...</td>\n",
       "      <td>...</td>\n",
       "    </tr>\n",
       "    <tr>\n",
       "      <th>95</th>\n",
       "      <td>95</td>\n",
       "      <td>sus</td>\n",
       "      <td>None</td>\n",
       "      <td>0</td>\n",
       "      <td>0</td>\n",
       "    </tr>\n",
       "    <tr>\n",
       "      <th>96</th>\n",
       "      <td>96</td>\n",
       "      <td>sus</td>\n",
       "      <td>None</td>\n",
       "      <td>0</td>\n",
       "      <td>0</td>\n",
       "    </tr>\n",
       "    <tr>\n",
       "      <th>97</th>\n",
       "      <td>97</td>\n",
       "      <td>sus</td>\n",
       "      <td>None</td>\n",
       "      <td>0</td>\n",
       "      <td>0</td>\n",
       "    </tr>\n",
       "    <tr>\n",
       "      <th>98</th>\n",
       "      <td>98</td>\n",
       "      <td>sus</td>\n",
       "      <td>None</td>\n",
       "      <td>0</td>\n",
       "      <td>0</td>\n",
       "    </tr>\n",
       "    <tr>\n",
       "      <th>99</th>\n",
       "      <td>99</td>\n",
       "      <td>sus</td>\n",
       "      <td>None</td>\n",
       "      <td>0</td>\n",
       "      <td>0</td>\n",
       "    </tr>\n",
       "  </tbody>\n",
       "</table>\n",
       "<p>100 rows × 5 columns</p>\n",
       "</div>"
      ],
      "text/plain": [
       "    agent state infected_by  days_infected  immunity\n",
       "0       0   sus        None              0         0\n",
       "1       1   inf        None              0         0\n",
       "2       2   sus        None              0         0\n",
       "3       3   inf        None              0         0\n",
       "4       4   sus        None              0         0\n",
       "..    ...   ...         ...            ...       ...\n",
       "95     95   sus        None              0         0\n",
       "96     96   sus        None              0         0\n",
       "97     97   sus        None              0         0\n",
       "98     98   sus        None              0         0\n",
       "99     99   sus        None              0         0\n",
       "\n",
       "[100 rows x 5 columns]"
      ]
     },
     "execution_count": 6,
     "metadata": {},
     "output_type": "execute_result"
    }
   ],
   "source": [
    "day.starting_population"
   ]
  },
  {
   "cell_type": "code",
   "execution_count": 7,
   "metadata": {},
   "outputs": [
    {
     "data": {
      "text/html": [
       "<div>\n",
       "<style scoped>\n",
       "    .dataframe tbody tr th:only-of-type {\n",
       "        vertical-align: middle;\n",
       "    }\n",
       "\n",
       "    .dataframe tbody tr th {\n",
       "        vertical-align: top;\n",
       "    }\n",
       "\n",
       "    .dataframe thead th {\n",
       "        text-align: right;\n",
       "    }\n",
       "</style>\n",
       "<table border=\"1\" class=\"dataframe\">\n",
       "  <thead>\n",
       "    <tr style=\"text-align: right;\">\n",
       "      <th></th>\n",
       "      <th>agent</th>\n",
       "      <th>state</th>\n",
       "      <th>infected_by</th>\n",
       "      <th>days_infected</th>\n",
       "      <th>immunity</th>\n",
       "    </tr>\n",
       "  </thead>\n",
       "  <tbody>\n",
       "    <tr>\n",
       "      <th>0</th>\n",
       "      <td>0</td>\n",
       "      <td>sus</td>\n",
       "      <td>None</td>\n",
       "      <td>0</td>\n",
       "      <td>0</td>\n",
       "    </tr>\n",
       "    <tr>\n",
       "      <th>1</th>\n",
       "      <td>1</td>\n",
       "      <td>inf</td>\n",
       "      <td>None</td>\n",
       "      <td>1</td>\n",
       "      <td>0</td>\n",
       "    </tr>\n",
       "    <tr>\n",
       "      <th>2</th>\n",
       "      <td>2</td>\n",
       "      <td>sus</td>\n",
       "      <td>None</td>\n",
       "      <td>0</td>\n",
       "      <td>0</td>\n",
       "    </tr>\n",
       "    <tr>\n",
       "      <th>3</th>\n",
       "      <td>3</td>\n",
       "      <td>inf</td>\n",
       "      <td>None</td>\n",
       "      <td>1</td>\n",
       "      <td>0</td>\n",
       "    </tr>\n",
       "    <tr>\n",
       "      <th>4</th>\n",
       "      <td>4</td>\n",
       "      <td>sus</td>\n",
       "      <td>None</td>\n",
       "      <td>0</td>\n",
       "      <td>0</td>\n",
       "    </tr>\n",
       "    <tr>\n",
       "      <th>...</th>\n",
       "      <td>...</td>\n",
       "      <td>...</td>\n",
       "      <td>...</td>\n",
       "      <td>...</td>\n",
       "      <td>...</td>\n",
       "    </tr>\n",
       "    <tr>\n",
       "      <th>95</th>\n",
       "      <td>95</td>\n",
       "      <td>inf</td>\n",
       "      <td>21</td>\n",
       "      <td>1</td>\n",
       "      <td>0</td>\n",
       "    </tr>\n",
       "    <tr>\n",
       "      <th>96</th>\n",
       "      <td>96</td>\n",
       "      <td>inf</td>\n",
       "      <td>23</td>\n",
       "      <td>1</td>\n",
       "      <td>0</td>\n",
       "    </tr>\n",
       "    <tr>\n",
       "      <th>97</th>\n",
       "      <td>97</td>\n",
       "      <td>inf</td>\n",
       "      <td>31</td>\n",
       "      <td>1</td>\n",
       "      <td>0</td>\n",
       "    </tr>\n",
       "    <tr>\n",
       "      <th>98</th>\n",
       "      <td>98</td>\n",
       "      <td>inf</td>\n",
       "      <td>27</td>\n",
       "      <td>1</td>\n",
       "      <td>0</td>\n",
       "    </tr>\n",
       "    <tr>\n",
       "      <th>99</th>\n",
       "      <td>99</td>\n",
       "      <td>sus</td>\n",
       "      <td>None</td>\n",
       "      <td>0</td>\n",
       "      <td>0</td>\n",
       "    </tr>\n",
       "  </tbody>\n",
       "</table>\n",
       "<p>100 rows × 5 columns</p>\n",
       "</div>"
      ],
      "text/plain": [
       "    agent state infected_by  days_infected  immunity\n",
       "0       0   sus        None              0         0\n",
       "1       1   inf        None              1         0\n",
       "2       2   sus        None              0         0\n",
       "3       3   inf        None              1         0\n",
       "4       4   sus        None              0         0\n",
       "..    ...   ...         ...            ...       ...\n",
       "95     95   inf          21              1         0\n",
       "96     96   inf          23              1         0\n",
       "97     97   inf          31              1         0\n",
       "98     98   inf          27              1         0\n",
       "99     99   sus        None              0         0\n",
       "\n",
       "[100 rows x 5 columns]"
      ]
     },
     "execution_count": 7,
     "metadata": {},
     "output_type": "execute_result"
    }
   ],
   "source": [
    "day.population._df"
   ]
  }
 ],
 "metadata": {
  "kernelspec": {
   "display_name": "Python 3",
   "language": "python",
   "name": "python3"
  },
  "language_info": {
   "codemirror_mode": {
    "name": "ipython",
    "version": 3
   },
   "file_extension": ".py",
   "mimetype": "text/x-python",
   "name": "python",
   "nbconvert_exporter": "python",
   "pygments_lexer": "ipython3",
   "version": "3.7.7"
  },
  "toc": {
   "base_numbering": 1,
   "nav_menu": {},
   "number_sections": true,
   "sideBar": true,
   "skip_h1_title": false,
   "title_cell": "Table of Contents",
   "title_sidebar": "Contents",
   "toc_cell": true,
   "toc_position": {
    "height": "calc(100% - 180px)",
    "left": "10px",
    "top": "150px",
    "width": "365.714px"
   },
   "toc_section_display": true,
   "toc_window_display": true
  }
 },
 "nbformat": 4,
 "nbformat_minor": 4
}
