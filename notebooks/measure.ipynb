{
 "cells": [
  {
   "cell_type": "markdown",
   "metadata": {
    "toc": true
   },
   "source": [
    "<h1>Table of Contents<span class=\"tocSkip\"></span></h1>\n",
    "<div class=\"toc\"><ul class=\"toc-item\"><li><span><a href=\"#Preamble\" data-toc-modified-id=\"Preamble-1\"><span class=\"toc-item-num\">1&nbsp;&nbsp;</span>Preamble</a></span><ul class=\"toc-item\"><li><span><a href=\"#Imports\" data-toc-modified-id=\"Imports-1.1\"><span class=\"toc-item-num\">1.1&nbsp;&nbsp;</span>Imports</a></span></li><li><span><a href=\"#Classes\" data-toc-modified-id=\"Classes-1.2\"><span class=\"toc-item-num\">1.2&nbsp;&nbsp;</span>Classes</a></span></li><li><span><a href=\"#Functions\" data-toc-modified-id=\"Functions-1.3\"><span class=\"toc-item-num\">1.3&nbsp;&nbsp;</span>Functions</a></span></li><li><span><a href=\"#Environment\" data-toc-modified-id=\"Environment-1.4\"><span class=\"toc-item-num\">1.4&nbsp;&nbsp;</span>Environment</a></span></li></ul></li><li><span><a href=\"#Main\" data-toc-modified-id=\"Main-2\"><span class=\"toc-item-num\">2&nbsp;&nbsp;</span>Main</a></span><ul class=\"toc-item\"><li><span><a href=\"#First-Run\" data-toc-modified-id=\"First-Run-2.1\"><span class=\"toc-item-num\">2.1&nbsp;&nbsp;</span>First Run</a></span></li><li><span><a href=\"#Second-Run-using-Restart\" data-toc-modified-id=\"Second-Run-using-Restart-2.2\"><span class=\"toc-item-num\">2.2&nbsp;&nbsp;</span>Second Run using Restart</a></span></li></ul></li><li><span><a href=\"#Scratch\" data-toc-modified-id=\"Scratch-3\"><span class=\"toc-item-num\">3&nbsp;&nbsp;</span>Scratch</a></span><ul class=\"toc-item\"><li><span><a href=\"#Measure\" data-toc-modified-id=\"Measure-3.1\"><span class=\"toc-item-num\">3.1&nbsp;&nbsp;</span>Measure</a></span></li></ul></li><li><span><a href=\"#Scratch\" data-toc-modified-id=\"Scratch-4\"><span class=\"toc-item-num\">4&nbsp;&nbsp;</span>Scratch</a></span></li></ul></div>"
   ]
  },
  {
   "cell_type": "markdown",
   "metadata": {},
   "source": [
    "# Preamble"
   ]
  },
  {
   "cell_type": "markdown",
   "metadata": {},
   "source": [
    "## Imports"
   ]
  },
  {
   "cell_type": "code",
   "execution_count": 3,
   "metadata": {},
   "outputs": [],
   "source": [
    "import sys\n",
    "sys.path.append('../')\n",
    "sys.path.append('../model/')\n",
    "from simfection_settings import SimfectionSettings\n",
    "from model.simulation_run import SimulationRun"
   ]
  },
  {
   "cell_type": "markdown",
   "metadata": {},
   "source": [
    "## Classes"
   ]
  },
  {
   "cell_type": "markdown",
   "metadata": {},
   "source": [
    "## Functions"
   ]
  },
  {
   "cell_type": "code",
   "execution_count": 2,
   "metadata": {
    "code_folding": [
     0
    ]
   },
   "outputs": [],
   "source": [
    "def get_size(obj, seen=None):\n",
    "    \"\"\"Recursively finds size of objects\"\"\"\n",
    "    size = sys.getsizeof(obj)\n",
    "    if seen is None:\n",
    "        seen = set()\n",
    "    obj_id = id(obj)\n",
    "    if obj_id in seen:\n",
    "        return 0\n",
    "    # Important mark as seen *before* entering recursion to gracefully handle\n",
    "    # self-referential objects\n",
    "    seen.add(obj_id)\n",
    "    if isinstance(obj, dict):\n",
    "        size += sum([get_size(v, seen) for v in obj.values()])\n",
    "        size += sum([get_size(k, seen) for k in obj.keys()])\n",
    "    elif hasattr(obj, '__dict__'):\n",
    "        size += get_size(obj.__dict__, seen)\n",
    "    elif hasattr(obj, '__iter__') and not isinstance(obj, (str, bytes, bytearray)):\n",
    "        size += sum([get_size(i, seen) for i in obj])\n",
    "    return size"
   ]
  },
  {
   "cell_type": "markdown",
   "metadata": {},
   "source": [
    "## Environment"
   ]
  },
  {
   "cell_type": "markdown",
   "metadata": {},
   "source": [
    "# Main"
   ]
  },
  {
   "cell_type": "markdown",
   "metadata": {},
   "source": [
    "## First Run"
   ]
  },
  {
   "cell_type": "code",
   "execution_count": 3,
   "metadata": {},
   "outputs": [],
   "source": [
    "settings = {'num_days': 5}"
   ]
  },
  {
   "cell_type": "code",
   "execution_count": 4,
   "metadata": {},
   "outputs": [
    {
     "name": "stdout",
     "output_type": "stream",
     "text": [
      "+ Synthesizing population.\n"
     ]
    }
   ],
   "source": [
    "sim = SimulationRun(settings)"
   ]
  },
  {
   "cell_type": "code",
   "execution_count": 5,
   "metadata": {},
   "outputs": [
    {
     "name": "stdout",
     "output_type": "stream",
     "text": [
      "\n",
      "+ Day 0\n",
      "+ Population loaded.\n",
      "\n",
      "+ Day 1\n",
      "+ Population loaded.\n",
      "\n",
      "+ Day 2\n",
      "+ Population loaded.\n",
      "\n",
      "+ Day 3\n",
      "+ Population loaded.\n",
      "\n",
      "+ Day 4\n",
      "+ Population loaded.\n",
      "CPU times: user 15.9 s, sys: 148 ms, total: 16.1 s\n",
      "Wall time: 16.4 s\n"
     ]
    }
   ],
   "source": [
    "%%time \n",
    "sim.run()"
   ]
  },
  {
   "cell_type": "markdown",
   "metadata": {},
   "source": [
    "## Second Run using Restart"
   ]
  },
  {
   "cell_type": "code",
   "execution_count": 6,
   "metadata": {},
   "outputs": [],
   "source": [
    "settings = {\n",
    "    'previous_run': sim,\n",
    "    'num_days': 2\n",
    "}"
   ]
  },
  {
   "cell_type": "code",
   "execution_count": 7,
   "metadata": {
    "scrolled": true
   },
   "outputs": [
    {
     "name": "stdout",
     "output_type": "stream",
     "text": [
      "+ Restarting from previous run.\n"
     ]
    }
   ],
   "source": [
    "sim2 = SimulationRun(settings)"
   ]
  },
  {
   "cell_type": "code",
   "execution_count": 8,
   "metadata": {},
   "outputs": [
    {
     "name": "stdout",
     "output_type": "stream",
     "text": [
      "\n",
      "+ Day 5\n",
      "+ Population loaded.\n",
      "\n",
      "+ Day 6\n",
      "+ Population loaded.\n",
      "CPU times: user 7.61 s, sys: 60.9 ms, total: 7.67 s\n",
      "Wall time: 7.88 s\n"
     ]
    }
   ],
   "source": [
    "%%time\n",
    "sim2.run()"
   ]
  },
  {
   "cell_type": "markdown",
   "metadata": {},
   "source": [
    "# Scratch"
   ]
  },
  {
   "cell_type": "code",
   "execution_count": null,
   "metadata": {},
   "outputs": [],
   "source": [
    "import sys\n",
    "import numpy as np"
   ]
  },
  {
   "cell_type": "markdown",
   "metadata": {},
   "source": [
    "## Measure"
   ]
  },
  {
   "cell_type": "code",
   "execution_count": null,
   "metadata": {},
   "outputs": [],
   "source": [
    "get_size(sim)/1024/1024\n",
    "\n",
    "np.array([get_size(day) for day in days]).sum()/1024/1024\n",
    "\n",
    "days = sim.days\n",
    "\n",
    "measurements = []\n",
    "\n",
    "for i,day in enumerate(days):\n",
    "    try:\n",
    "        inf = day.starting_population.state.value_counts()['inf']\n",
    "    except:\n",
    "        inf = 0\n",
    "    try:\n",
    "        sus = day.starting_population.state.value_counts()['sus']\n",
    "    except:\n",
    "        sus = 0\n",
    "    try:\n",
    "        dead = day.starting_population.state.value_counts()['dead']\n",
    "    except:\n",
    "        dead = 0\n",
    "        \n",
    "    imm = sum(day.starting_population.immunity > 0)\n",
    "\n",
    "    measure = {\n",
    "        'day': i,\n",
    "        'inf': inf,\n",
    "        'sus': sus,\n",
    "        'dead': dead,\n",
    "        'imm': imm\n",
    "    }\n",
    "\n",
    "    measurements.append(measure)\n",
    "\n",
    "data = pd.DataFrame(measurements)\n",
    "\n",
    "data['sus_minus_imm'] = data.sus - data.imm\n",
    "\n",
    "data['total_people'] = data.inf + data.sus\n",
    "\n",
    "import seaborn as sns\n",
    "import matplotlib.pyplot as plt\n",
    "sns.set()\n",
    "sns.set_context('notebook')\n",
    "\n",
    "title = (\n",
    "    '''\n",
    "    No. People: {np}\n",
    "    Avg. Connections: {ac}\n",
    "    No. Days: {nd}\n",
    "    Init. Infected: {ii}\n",
    "    alpha: {ir}\n",
    "    beta: {rr}\n",
    "    \n",
    "    '''\n",
    "    .format(\n",
    "        np=num_people,\n",
    "        ac=mean_connections,\n",
    "        ir=pathogen['infection_rate'],\n",
    "        rr=pathogen['recovery_rate'],\n",
    "        nd=num_days,\n",
    "        ii=initial_states['inf']\n",
    "    )\n",
    ")\n",
    "fig = plt.figure(figsize=(12,8))\n",
    "ax = plt.gca()\n",
    "sns.lineplot(x='day',y='sus_minus_imm',data=data,ax=ax,label='Susceptible')\n",
    "sns.lineplot(x='day',y='inf',data=data,ax=ax,label='Infected')\n",
    "sns.lineplot(x='day',y='imm',data=data,ax=ax,label='Recovered')\n",
    "sns.lineplot(x='day',y='total_people',data=data,ax=ax,label='Total People')\n",
    "ax.set(xlabel='Day',ylabel='Count',title=title)\n",
    "\n",
    "\n",
    "infected_by = [pd.DataFrame(day.starting_population.infected_by.value_counts()) for day in days]\n",
    "\n",
    "df = infected_by[1]\n",
    "for day in infected_by[2:]:\n",
    "    df += day\n",
    "    \n",
    "\n",
    "sns.set(context='notebook')\n",
    "sns.barplot(x='index',y='infected_by',data=df.reset_index())"
   ]
  },
  {
   "cell_type": "markdown",
   "metadata": {},
   "source": [
    "# Scratch"
   ]
  },
  {
   "cell_type": "code",
   "execution_count": null,
   "metadata": {},
   "outputs": [],
   "source": [
    "from population_engine import PopulationEngine"
   ]
  },
  {
   "cell_type": "code",
   "execution_count": null,
   "metadata": {},
   "outputs": [],
   "source": [
    "from simfection_settings import SimFectionSettings"
   ]
  },
  {
   "cell_type": "code",
   "execution_count": null,
   "metadata": {},
   "outputs": [],
   "source": [
    "settings = SimFectionSettings(settings={\n",
    "    'infection_rate': 0.9,\n",
    "    'num_people': 5\n",
    "})"
   ]
  },
  {
   "cell_type": "code",
   "execution_count": null,
   "metadata": {},
   "outputs": [],
   "source": [
    "settings.get_setting('num_people')"
   ]
  },
  {
   "cell_type": "code",
   "execution_count": null,
   "metadata": {},
   "outputs": [],
   "source": [
    "population = PopulationEngine(settings)"
   ]
  },
  {
   "cell_type": "code",
   "execution_count": null,
   "metadata": {},
   "outputs": [],
   "source": [
    "population.synthesize_population()"
   ]
  },
  {
   "cell_type": "code",
   "execution_count": null,
   "metadata": {},
   "outputs": [],
   "source": [
    "settings.get_setting('infection_rate')"
   ]
  },
  {
   "cell_type": "code",
   "execution_count": null,
   "metadata": {},
   "outputs": [],
   "source": [
    "settings.set_setting('infection_rate',0.2)"
   ]
  },
  {
   "cell_type": "code",
   "execution_count": null,
   "metadata": {},
   "outputs": [],
   "source": [
    "settings.settings"
   ]
  },
  {
   "cell_type": "code",
   "execution_count": null,
   "metadata": {},
   "outputs": [],
   "source": []
  }
 ],
 "metadata": {
  "kernelspec": {
   "display_name": "Python 3",
   "language": "python",
   "name": "python3"
  },
  "language_info": {
   "codemirror_mode": {
    "name": "ipython",
    "version": 3
   },
   "file_extension": ".py",
   "mimetype": "text/x-python",
   "name": "python",
   "nbconvert_exporter": "python",
   "pygments_lexer": "ipython3",
   "version": "3.7.7"
  },
  "toc": {
   "base_numbering": 1,
   "nav_menu": {},
   "number_sections": true,
   "sideBar": true,
   "skip_h1_title": false,
   "title_cell": "Table of Contents",
   "title_sidebar": "Contents",
   "toc_cell": true,
   "toc_position": {
    "height": "calc(100% - 180px)",
    "left": "10px",
    "top": "150px",
    "width": "365.707px"
   },
   "toc_section_display": true,
   "toc_window_display": true
  }
 },
 "nbformat": 4,
 "nbformat_minor": 4
}
