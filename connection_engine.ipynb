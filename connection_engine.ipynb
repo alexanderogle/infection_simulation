{
 "cells": [
  {
   "cell_type": "markdown",
   "metadata": {
    "toc": true
   },
   "source": [
    "<h1>Table of Contents<span class=\"tocSkip\"></span></h1>\n",
    "<div class=\"toc\"><ul class=\"toc-item\"><li><span><a href=\"#Preamble\" data-toc-modified-id=\"Preamble-1\"><span class=\"toc-item-num\">1&nbsp;&nbsp;</span>Preamble</a></span><ul class=\"toc-item\"><li><span><a href=\"#Imports\" data-toc-modified-id=\"Imports-1.1\"><span class=\"toc-item-num\">1.1&nbsp;&nbsp;</span>Imports</a></span></li><li><span><a href=\"#Classes\" data-toc-modified-id=\"Classes-1.2\"><span class=\"toc-item-num\">1.2&nbsp;&nbsp;</span>Classes</a></span></li></ul></li><li><span><a href=\"#Main\" data-toc-modified-id=\"Main-2\"><span class=\"toc-item-num\">2&nbsp;&nbsp;</span>Main</a></span></li><li><span><a href=\"#Load-Results\" data-toc-modified-id=\"Load-Results-3\"><span class=\"toc-item-num\">3&nbsp;&nbsp;</span>Load Results</a></span></li></ul></div>"
   ]
  },
  {
   "cell_type": "markdown",
   "metadata": {},
   "source": [
    "# Preamble"
   ]
  },
  {
   "cell_type": "markdown",
   "metadata": {},
   "source": [
    "## Imports"
   ]
  },
  {
   "cell_type": "code",
   "execution_count": 1,
   "metadata": {},
   "outputs": [],
   "source": [
    "import pandas as pd\n",
    "import numpy as np\n",
    "import time\n",
    "import sys\n",
    "import resource\n",
    "from datetime import datetime\n",
    "from concurrent.futures import ThreadPoolExecutor\n",
    "sys.setrecursionlimit(10**6)"
   ]
  },
  {
   "cell_type": "markdown",
   "metadata": {},
   "source": [
    "## Classes"
   ]
  },
  {
   "cell_type": "code",
   "execution_count": 2,
   "metadata": {
    "code_folding": [
     0
    ]
   },
   "outputs": [],
   "source": [
    "class MemoryMonitor:\n",
    "    def __init__(self):\n",
    "        self.keep_measuring = True\n",
    "\n",
    "    def measure_usage(self):\n",
    "        max_usage = 0\n",
    "        usage = []\n",
    "        while self.keep_measuring:\n",
    "            max_usage = max(\n",
    "                max_usage,\n",
    "                resource.getrusage(resource.RUSAGE_SELF).ru_maxrss\n",
    "            )\n",
    "            \n",
    "            time.sleep(0.1)\n",
    "\n",
    "        return max_usage"
   ]
  },
  {
   "cell_type": "code",
   "execution_count": 3,
   "metadata": {
    "code_folding": [
     0
    ]
   },
   "outputs": [],
   "source": [
    "class ConnectionEngine():\n",
    "    def __init__(self,num_people=None,num_connections=None):\n",
    "        self.num_people = num_people\n",
    "        self.num_connections = num_connections\n",
    "\n",
    "    def _build_connection_list(self,agent,population,num_connections):\n",
    "        # Break ounter\n",
    "        #if _cnt == 0:\n",
    "        #    _cnt += 1\n",
    "        # Return IDs of people with connections less than num_connections\n",
    "        available_to_connect = (\n",
    "            lambda agent,population: population.drop(agent).query('num_connections < {}'\n",
    "                                                                     .format(num_connections)\n",
    "                                                                    ).index\n",
    "        )\n",
    "\n",
    "        ## Update number of connections\n",
    "        #population['num_connections'] = population.connections.apply(len)\n",
    "        # Get other agents available to connect\n",
    "        available = available_to_connect(agent,population)\n",
    "        # Randomly choose connection\n",
    "        if len(available) > 0:\n",
    "            connection = np.random.choice(available)\n",
    "            # Make connection\n",
    "            population.iloc[connection].connections.append(agent)\n",
    "            population.iloc[agent].connections.append(connection)\n",
    "\n",
    "            # Update number of connections\n",
    "            population.iloc[[agent,connection],2] += 1\n",
    "            #if _cnt < 10:\n",
    "            while population.num_connections[agent] < num_connections:\n",
    "                self._build_connection_list(agent,\n",
    "                                       population,\n",
    "                                       num_connections)\n",
    "\n",
    "        return population\n",
    "    \n",
    "    def create_connections(self,verbose=False):\n",
    "        num_connections = self.num_connections\n",
    "        num_people = self.num_people\n",
    "        population = pd.DataFrame(\n",
    "            {\n",
    "                'index': [i for i in range(num_people)],\n",
    "                'connections': [[] for i in range(num_people)],\n",
    "                'num_connections': [0 for i in range(num_people)]\n",
    "            }\n",
    "        )\n",
    "        \n",
    "        _update = num_people*0.1\n",
    "        for _per in population.index:\n",
    "            if verbose:\n",
    "                if _per % _update == 0:\n",
    "                    print('{:.0f}% complete'.format(_per/num_people*100))\n",
    "            self._build_connection_list(_per,population,num_connections)\n",
    "            \n",
    "        self.population = population\n",
    "        \n",
    "        return population\n",
    "            \n"
   ]
  },
  {
   "cell_type": "code",
   "execution_count": 43,
   "metadata": {
    "code_folding": [
     0
    ]
   },
   "outputs": [],
   "source": [
    "class ConnectionsExperiment():\n",
    "    def __init__(self,num_people=None,num_connections=None,connection_engine=None,num_runs=1):\n",
    "        self.num_people = num_people\n",
    "        self.num_connections = num_connections\n",
    "        self.connection_engine = connection_engine\n",
    "        self.num_runs = num_runs\n",
    "        self.data = []\n",
    "        \n",
    "    def single_experiment(self,num_connections=None,num_people=None):\n",
    "        if num_connections is None:\n",
    "            num_connections = self.num_connections\n",
    "        if num_people is None:\n",
    "            num_people = self.num_people\n",
    "        start = time.time()\n",
    "        xns = self.connection_engine(num_people=num_people,num_connections=num_connections)\n",
    "        xns.create_connections()\n",
    "        del xns\n",
    "        end = time.time()\n",
    "        output = {\n",
    "            'num_people': num_people,\n",
    "            'num_connections': num_connections,\n",
    "            'time': end-start\n",
    "        }\n",
    "        self.data.append(output)\n",
    "\n",
    "    def run(self):\n",
    "        # Overall runtime tracking\n",
    "        start = time.time()\n",
    "        # Set variables\n",
    "        num_people = self.num_people\n",
    "        num_connections = self.num_connections\n",
    "        num_runs = self.num_runs\n",
    "        \n",
    "        # Allows handling of single values\n",
    "        if isinstance(num_people,int):\n",
    "            num_people = [num_people]\n",
    "        if isinstance(num_connections,int):\n",
    "            num_connections = [num_connections]\n",
    "        #if isinstance(num_runs,int):\n",
    "        #    num_runs = [num_runs]\n",
    "            \n",
    "        # Main\n",
    "        for run in range(num_runs):\n",
    "            for _np in num_people:\n",
    "                for _nc in num_connections:\n",
    "                    try:\n",
    "                        # TODO: Abstract out the Thread Pool Memory Monitor\n",
    "                        with ThreadPoolExecutor() as executor:\n",
    "                            monitor = MemoryMonitor()\n",
    "                            mem_thread = executor.submit(monitor.measure_usage)\n",
    "                            try:\n",
    "                                fn_thread = executor.submit(\n",
    "                                    experiment.single_experiment(num_people=_np,num_connections=_nc)\n",
    "                                )\n",
    "                            finally:\n",
    "                                monitor.keep_measuring = False\n",
    "                                max_usage = mem_thread.result()\n",
    "\n",
    "                            # Log Max Memory Usage \n",
    "                            self.data[-1]['max_memory'] = max_usage\n",
    "\n",
    "                    except:\n",
    "                        # Bad run\n",
    "                        output = {\n",
    "                            'num_people': num_people,\n",
    "                            'num_connections': num_connections,\n",
    "                            'time': None,\n",
    "                            'max_memory': None\n",
    "                        }\n",
    "                        self.data.append(output)\n",
    "                    \n",
    "        # Overall runtime tracking\n",
    "        end = time.time()\n",
    "        self.runtime = end - start\n",
    "        return self.data\n"
   ]
  },
  {
   "cell_type": "markdown",
   "metadata": {},
   "source": [
    "# Main"
   ]
  },
  {
   "cell_type": "code",
   "execution_count": 44,
   "metadata": {},
   "outputs": [],
   "source": [
    "experiment = ConnectionsExperiment(num_people=100,\n",
    "                                   num_connections=[5,6],\n",
    "                                   connection_engine=ConnectionEngine,\n",
    "                                  num_runs = 3)"
   ]
  },
  {
   "cell_type": "code",
   "execution_count": null,
   "metadata": {},
   "outputs": [],
   "source": [
    "experiment.run()"
   ]
  },
  {
   "cell_type": "code",
   "execution_count": 7,
   "metadata": {},
   "outputs": [
    {
     "data": {
      "text/plain": [
       "2.6454620361328125"
      ]
     },
     "execution_count": 7,
     "metadata": {},
     "output_type": "execute_result"
    }
   ],
   "source": [
    "experiment.runtime"
   ]
  },
  {
   "cell_type": "code",
   "execution_count": 9,
   "metadata": {},
   "outputs": [
    {
     "data": {
      "text/plain": [
       "[{'num_people': 100,\n",
       "  'num_connections': 5,\n",
       "  'time': 1.143136978149414,\n",
       "  'max_memory': 98512896},\n",
       " {'num_people': 100,\n",
       "  'num_connections': 6,\n",
       "  'time': 1.3967351913452148,\n",
       "  'max_memory': 98590720}]"
      ]
     },
     "execution_count": 9,
     "metadata": {},
     "output_type": "execute_result"
    }
   ],
   "source": [
    "experiment.data"
   ]
  },
  {
   "cell_type": "markdown",
   "metadata": {},
   "source": [
    "# Load Results"
   ]
  },
  {
   "cell_type": "code",
   "execution_count": null,
   "metadata": {
    "code_folding": [
     1
    ]
   },
   "outputs": [],
   "source": [
    "import pickle as pkl\n",
    "with open('connections_experiment_results_1587184255.pkl','rb') as _file:\n",
    "    exp = pkl.load(_file)"
   ]
  },
  {
   "cell_type": "code",
   "execution_count": null,
   "metadata": {},
   "outputs": [],
   "source": [
    "exp.max_usage"
   ]
  },
  {
   "cell_type": "code",
   "execution_count": null,
   "metadata": {},
   "outputs": [],
   "source": [
    "import pandas as pd\n",
    "df = pd.DataFrame(experiment.data)"
   ]
  },
  {
   "cell_type": "code",
   "execution_count": null,
   "metadata": {},
   "outputs": [],
   "source": [
    "df.groupby(['num_connections'])['time'].mean()"
   ]
  },
  {
   "cell_type": "code",
   "execution_count": null,
   "metadata": {},
   "outputs": [],
   "source": []
  }
 ],
 "metadata": {
  "kernelspec": {
   "display_name": "Python 3",
   "language": "python",
   "name": "python3"
  },
  "language_info": {
   "codemirror_mode": {
    "name": "ipython",
    "version": 3
   },
   "file_extension": ".py",
   "mimetype": "text/x-python",
   "name": "python",
   "nbconvert_exporter": "python",
   "pygments_lexer": "ipython3",
   "version": "3.7.4"
  },
  "toc": {
   "base_numbering": 1,
   "nav_menu": {},
   "number_sections": true,
   "sideBar": true,
   "skip_h1_title": false,
   "title_cell": "Table of Contents",
   "title_sidebar": "Contents",
   "toc_cell": true,
   "toc_position": {},
   "toc_section_display": true,
   "toc_window_display": true
  }
 },
 "nbformat": 4,
 "nbformat_minor": 4
}
