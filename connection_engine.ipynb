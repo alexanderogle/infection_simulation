{
 "cells": [
  {
   "cell_type": "markdown",
   "metadata": {
    "toc": true
   },
   "source": [
    "<h1>Table of Contents<span class=\"tocSkip\"></span></h1>\n",
    "<div class=\"toc\"><ul class=\"toc-item\"><li><span><a href=\"#Preamble\" data-toc-modified-id=\"Preamble-1\"><span class=\"toc-item-num\">1&nbsp;&nbsp;</span>Preamble</a></span><ul class=\"toc-item\"><li><span><a href=\"#Imports\" data-toc-modified-id=\"Imports-1.1\"><span class=\"toc-item-num\">1.1&nbsp;&nbsp;</span>Imports</a></span></li><li><span><a href=\"#Classes\" data-toc-modified-id=\"Classes-1.2\"><span class=\"toc-item-num\">1.2&nbsp;&nbsp;</span>Classes</a></span></li></ul></li><li><span><a href=\"#Main\" data-toc-modified-id=\"Main-2\"><span class=\"toc-item-num\">2&nbsp;&nbsp;</span>Main</a></span></li></ul></div>"
   ]
  },
  {
   "cell_type": "markdown",
   "metadata": {},
   "source": [
    "# Preamble"
   ]
  },
  {
   "cell_type": "markdown",
   "metadata": {},
   "source": [
    "## Imports"
   ]
  },
  {
   "cell_type": "code",
   "execution_count": 1,
   "metadata": {},
   "outputs": [],
   "source": [
    "import pandas as pd\n",
    "import numpy as np\n",
    "import time\n",
    "import sys\n",
    "sys.setrecursionlimit(10**6)"
   ]
  },
  {
   "cell_type": "markdown",
   "metadata": {},
   "source": [
    "## Classes"
   ]
  },
  {
   "cell_type": "code",
   "execution_count": 2,
   "metadata": {},
   "outputs": [],
   "source": [
    "class ConnectionEngine():\n",
    "    def __init__(self,num_people=None,num_connections=None):\n",
    "        self.num_people = num_people\n",
    "        self.num_connections = num_connections\n",
    "        \n",
    "    def _build_connection_list(agent,population,num_connections,_cnt=0):\n",
    "        # Break counter\n",
    "        if _cnt == 0:\n",
    "            _cnt += 1\n",
    "        print(_cnt)\n",
    "        # Return IDs of people with connections less than num_connections\n",
    "        available_to_connect = (\n",
    "            lambda agent,population: population.drop(agent).query('num_connections < {}'\n",
    "                                                                     .format(num_connections)\n",
    "                                                                    ).index\n",
    "        )\n",
    "\n",
    "        # Update number of connections\n",
    "        population['num_connections'] = population.connections.apply(len)\n",
    "        # Get other agents available to connect\n",
    "        available = available_to_connect(agent,population)\n",
    "        # Randomly choose connection\n",
    "        if len(available) > 0:\n",
    "            connection = np.random.choice(available)\n",
    "            # Make connection\n",
    "            population.iloc[connection].connections.append(agent)\n",
    "            population.iloc[agent].connections.append(connection)\n",
    "\n",
    "        # Update number of connections\n",
    "        population['num_connections'] = population.connections.apply(len)\n",
    "        if _cnt < 10:\n",
    "            while population.num_connections[agent] < num_connections:\n",
    "                _build_connection_list(agent,\n",
    "                                       population,\n",
    "                                       num_connections,\n",
    "                                       _cnt=_cnt)\n",
    "\n",
    "        return population\n",
    "    \n",
    "    def create_connections(self):\n",
    "        num_connections = self.num_connections\n",
    "        num_people = self.num_people\n",
    "        population = pd.DataFrame(\n",
    "            {\n",
    "                'index': [i for i in range(0,num_people)],\n",
    "                'connections': [[] for i in range(0,num_people)],\n",
    "            }\n",
    "        )\n",
    "        \n",
    "        for _per in population.index:\n",
    "            _build_connection_list(_per,population,num_connections)\n",
    "            \n",
    "        self.population = population\n",
    "        \n",
    "        return population\n",
    "            \n"
   ]
  },
  {
   "cell_type": "markdown",
   "metadata": {},
   "source": [
    "# Main"
   ]
  },
  {
   "cell_type": "markdown",
   "metadata": {},
   "source": [
    "For some reason, only works with function outside of class"
   ]
  },
  {
   "cell_type": "code",
   "execution_count": 3,
   "metadata": {},
   "outputs": [],
   "source": [
    "def _build_connection_list(agent,population,num_connections,_cnt=0):\n",
    "    # Break counter\n",
    "    if _cnt == 0:\n",
    "        _cnt += 1\n",
    "    # Return IDs of people with connections less than num_connections\n",
    "    available_to_connect = (\n",
    "        lambda agent,population: population.drop(agent).query('num_connections < {}'\n",
    "                                                                 .format(num_connections)\n",
    "                                                                ).index\n",
    "    )\n",
    "\n",
    "    # Update number of connections\n",
    "    population['num_connections'] = population.connections.apply(len)\n",
    "    # Get other agents available to connect\n",
    "    available = available_to_connect(agent,population)\n",
    "    # Randomly choose connection\n",
    "    if len(available) > 0:\n",
    "        connection = np.random.choice(available)\n",
    "        # Make connection\n",
    "        population.iloc[connection].connections.append(agent)\n",
    "        population.iloc[agent].connections.append(connection)\n",
    "\n",
    "        # Update number of connections\n",
    "        population['num_connections'] = population.connections.apply(len)\n",
    "        if _cnt < 10:\n",
    "            while population.num_connections[agent] < num_connections:\n",
    "                _build_connection_list(agent,\n",
    "                                       population,\n",
    "                                       num_connections,\n",
    "                                       _cnt=_cnt)"
   ]
  },
  {
   "cell_type": "code",
   "execution_count": 4,
   "metadata": {},
   "outputs": [],
   "source": [
    "def run_experiment(num_connections=None,base=None,start=1,stop=10):\n",
    "    _data = {}\n",
    "    for i in range(start,stop):\n",
    "        num_people = i*base\n",
    "        _start = time.time()\n",
    "        _ = ConnectionEngine(num_people=num_people,num_connections=num_connections)\n",
    "        _.create_connections()\n",
    "        _end = time.time()\n",
    "        _data[num_people] = {\n",
    "            'num_connections' :num_connections,\n",
    "            'time': _end-_start\n",
    "        }\n",
    "    \n",
    "    return _data"
   ]
  },
  {
   "cell_type": "code",
   "execution_count": null,
   "metadata": {},
   "outputs": [],
   "source": [
    "%%time\n",
    "connections = ConnectionEngine(num_people=100000,num_connections=50)"
   ]
  },
  {
   "cell_type": "code",
   "execution_count": null,
   "metadata": {},
   "outputs": [],
   "source": [
    "%%time\n",
    "connections.create_connections()"
   ]
  },
  {
   "cell_type": "code",
   "execution_count": null,
   "metadata": {},
   "outputs": [],
   "source": [
    "connections.population.head(10)"
   ]
  },
  {
   "cell_type": "code",
   "execution_count": null,
   "metadata": {},
   "outputs": [],
   "source": []
  },
  {
   "cell_type": "code",
   "execution_count": null,
   "metadata": {},
   "outputs": [],
   "source": []
  },
  {
   "cell_type": "code",
   "execution_count": null,
   "metadata": {},
   "outputs": [],
   "source": [
    "%%time\n",
    "data = run_experiment(num_connections=3,base=100,start=1,stop=5)"
   ]
  },
  {
   "cell_type": "code",
   "execution_count": null,
   "metadata": {},
   "outputs": [],
   "source": [
    "!touch experiment.py"
   ]
  },
  {
   "cell_type": "code",
   "execution_count": null,
   "metadata": {},
   "outputs": [],
   "source": [
    "_start = time.time()\n",
    "_.create_connections()\n",
    "_end = time.time()\n",
    "print(float('{:.2f}'.format(_end-_start)))"
   ]
  },
  {
   "cell_type": "code",
   "execution_count": null,
   "metadata": {},
   "outputs": [],
   "source": [
    "_.population"
   ]
  },
  {
   "cell_type": "code",
   "execution_count": null,
   "metadata": {},
   "outputs": [],
   "source": []
  }
 ],
 "metadata": {
  "kernelspec": {
   "display_name": "Python 3",
   "language": "python",
   "name": "python3"
  },
  "language_info": {
   "codemirror_mode": {
    "name": "ipython",
    "version": 3
   },
   "file_extension": ".py",
   "mimetype": "text/x-python",
   "name": "python",
   "nbconvert_exporter": "python",
   "pygments_lexer": "ipython3",
   "version": "3.7.4"
  },
  "toc": {
   "base_numbering": 1,
   "nav_menu": {},
   "number_sections": true,
   "sideBar": true,
   "skip_h1_title": false,
   "title_cell": "Table of Contents",
   "title_sidebar": "Contents",
   "toc_cell": true,
   "toc_position": {},
   "toc_section_display": true,
   "toc_window_display": true
  }
 },
 "nbformat": 4,
 "nbformat_minor": 4
}
