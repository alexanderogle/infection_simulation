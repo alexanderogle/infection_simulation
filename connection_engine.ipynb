{
 "cells": [
  {
   "cell_type": "markdown",
   "metadata": {
    "toc": true
   },
   "source": [
    "<h1>Table of Contents<span class=\"tocSkip\"></span></h1>\n",
    "<div class=\"toc\"><ul class=\"toc-item\"><li><span><a href=\"#Preamble\" data-toc-modified-id=\"Preamble-1\"><span class=\"toc-item-num\">1&nbsp;&nbsp;</span>Preamble</a></span><ul class=\"toc-item\"><li><span><a href=\"#Imports\" data-toc-modified-id=\"Imports-1.1\"><span class=\"toc-item-num\">1.1&nbsp;&nbsp;</span>Imports</a></span></li><li><span><a href=\"#Classes\" data-toc-modified-id=\"Classes-1.2\"><span class=\"toc-item-num\">1.2&nbsp;&nbsp;</span>Classes</a></span></li></ul></li><li><span><a href=\"#Main\" data-toc-modified-id=\"Main-2\"><span class=\"toc-item-num\">2&nbsp;&nbsp;</span>Main</a></span></li></ul></div>"
   ]
  },
  {
   "cell_type": "markdown",
   "metadata": {},
   "source": [
    "# Preamble"
   ]
  },
  {
   "cell_type": "markdown",
   "metadata": {},
   "source": [
    "## Imports"
   ]
  },
  {
   "cell_type": "code",
   "execution_count": 1,
   "metadata": {},
   "outputs": [],
   "source": [
    "import pandas as pd\n",
    "import numpy as np\n",
    "import time\n",
    "import sys\n",
    "sys.setrecursionlimit(10**6)"
   ]
  },
  {
   "cell_type": "markdown",
   "metadata": {},
   "source": [
    "## Classes"
   ]
  },
  {
   "cell_type": "code",
   "execution_count": 29,
   "metadata": {},
   "outputs": [],
   "source": [
    "class ConnectionEngine():\n",
    "    def __init__(self,num_people=None,num_connections=None):\n",
    "        self.num_people = num_people\n",
    "        self.num_connections = num_connections\n",
    "\n",
    "    def _build_connection_list(self,agent,population,num_connections):\n",
    "        # Break counter\n",
    "        #if _cnt == 0:\n",
    "        #    _cnt += 1\n",
    "        # Return IDs of people with connections less than num_connections\n",
    "        available_to_connect = (\n",
    "            lambda agent,population: population.drop(agent).query('num_connections < {}'\n",
    "                                                                     .format(num_connections)\n",
    "                                                                    ).index\n",
    "        )\n",
    "\n",
    "        ## Update number of connections\n",
    "        #population['num_connections'] = population.connections.apply(len)\n",
    "        # Get other agents available to connect\n",
    "        available = available_to_connect(agent,population)\n",
    "        # Randomly choose connection\n",
    "        if len(available) > 0:\n",
    "            connection = np.random.choice(available)\n",
    "            # Make connection\n",
    "            population.iloc[connection].connections.append(agent)\n",
    "            population.iloc[agent].connections.append(connection)\n",
    "\n",
    "            # Update number of connections\n",
    "            population.iloc[[agent,connection],2] += 1\n",
    "            #if _cnt < 10:\n",
    "            while population.num_connections[agent] < num_connections:\n",
    "                self._build_connection_list(agent,\n",
    "                                       population,\n",
    "                                       num_connections)\n",
    "\n",
    "        return population\n",
    "    \n",
    "    def create_connections(self,verbose=False):\n",
    "        num_connections = self.num_connections\n",
    "        num_people = self.num_people\n",
    "        population = pd.DataFrame(\n",
    "            {\n",
    "                'index': [i for i in range(num_people)],\n",
    "                'connections': [[] for i in range(num_people)],\n",
    "                'num_connections': [0 for i in range(num_people)]\n",
    "            }\n",
    "        )\n",
    "        \n",
    "        _update = num_people*0.1\n",
    "        for _per in population.index:\n",
    "            if verbose:\n",
    "                if _per % _update == 0:\n",
    "                    print('{:.0f}% complete'.format(_per/num_people*100))\n",
    "            self._build_connection_list(_per,population,num_connections)\n",
    "            \n",
    "        self.population = population\n",
    "        \n",
    "        return population\n",
    "            \n"
   ]
  },
  {
   "cell_type": "markdown",
   "metadata": {},
   "source": [
    "# Main"
   ]
  },
  {
   "cell_type": "markdown",
   "metadata": {},
   "source": [
    "For some reason, only works with function outside of class"
   ]
  },
  {
   "cell_type": "code",
   "execution_count": 17,
   "metadata": {},
   "outputs": [],
   "source": [
    "def run_experiment(num_connections=None,base=None,start=1,stop=10):\n",
    "    _data = {}\n",
    "    for i in range(start,stop):\n",
    "        num_people = i*base\n",
    "        _start = time.time()\n",
    "        _ = ConnectionEngine(num_people=num_people,num_connections=num_connections)\n",
    "        _.create_connections()\n",
    "        _end = time.time()\n",
    "        _data[num_people] = {\n",
    "            'num_connections' :num_connections,\n",
    "            'time': _end-_start\n",
    "        }\n",
    "    \n",
    "    return _data"
   ]
  },
  {
   "cell_type": "code",
   "execution_count": 37,
   "metadata": {
    "scrolled": true
   },
   "outputs": [
    {
     "name": "stdout",
     "output_type": "stream",
     "text": [
      "CPU times: user 7 µs, sys: 1 µs, total: 8 µs\n",
      "Wall time: 9.78 µs\n"
     ]
    }
   ],
   "source": [
    "%%time\n",
    "connections = ConnectionEngine(num_people=10000,num_connections=10)"
   ]
  },
  {
   "cell_type": "code",
   "execution_count": 38,
   "metadata": {},
   "outputs": [
    {
     "name": "stdout",
     "output_type": "stream",
     "text": [
      "CPU times: user 3min 33s, sys: 7.17 s, total: 3min 40s\n",
      "Wall time: 3min 41s\n"
     ]
    },
    {
     "data": {
      "text/html": [
       "<div>\n",
       "<style scoped>\n",
       "    .dataframe tbody tr th:only-of-type {\n",
       "        vertical-align: middle;\n",
       "    }\n",
       "\n",
       "    .dataframe tbody tr th {\n",
       "        vertical-align: top;\n",
       "    }\n",
       "\n",
       "    .dataframe thead th {\n",
       "        text-align: right;\n",
       "    }\n",
       "</style>\n",
       "<table border=\"1\" class=\"dataframe\">\n",
       "  <thead>\n",
       "    <tr style=\"text-align: right;\">\n",
       "      <th></th>\n",
       "      <th>index</th>\n",
       "      <th>connections</th>\n",
       "      <th>num_connections</th>\n",
       "    </tr>\n",
       "  </thead>\n",
       "  <tbody>\n",
       "    <tr>\n",
       "      <td>0</td>\n",
       "      <td>0</td>\n",
       "      <td>[8717, 2722, 7378, 8727, 686, 3479, 7071, 5302...</td>\n",
       "      <td>10</td>\n",
       "    </tr>\n",
       "    <tr>\n",
       "      <td>1</td>\n",
       "      <td>1</td>\n",
       "      <td>[6444, 8462, 7485, 3991, 9335, 1666, 1606, 143...</td>\n",
       "      <td>10</td>\n",
       "    </tr>\n",
       "    <tr>\n",
       "      <td>2</td>\n",
       "      <td>2</td>\n",
       "      <td>[3456, 8839, 3806, 3254, 2379, 6747, 6800, 637...</td>\n",
       "      <td>10</td>\n",
       "    </tr>\n",
       "    <tr>\n",
       "      <td>3</td>\n",
       "      <td>3</td>\n",
       "      <td>[1840, 1374, 8839, 2390, 1821, 1638, 3270, 669...</td>\n",
       "      <td>10</td>\n",
       "    </tr>\n",
       "    <tr>\n",
       "      <td>4</td>\n",
       "      <td>4</td>\n",
       "      <td>[9405, 2179, 9055, 6740, 6992, 8951, 812, 6672...</td>\n",
       "      <td>10</td>\n",
       "    </tr>\n",
       "    <tr>\n",
       "      <td>...</td>\n",
       "      <td>...</td>\n",
       "      <td>...</td>\n",
       "      <td>...</td>\n",
       "    </tr>\n",
       "    <tr>\n",
       "      <td>9995</td>\n",
       "      <td>9995</td>\n",
       "      <td>[1599, 2332, 2576, 4103, 6286, 8174, 8336, 863...</td>\n",
       "      <td>10</td>\n",
       "    </tr>\n",
       "    <tr>\n",
       "      <td>9996</td>\n",
       "      <td>9996</td>\n",
       "      <td>[712, 1132, 2536, 3717, 5988, 7187, 8079, 9236...</td>\n",
       "      <td>10</td>\n",
       "    </tr>\n",
       "    <tr>\n",
       "      <td>9997</td>\n",
       "      <td>9997</td>\n",
       "      <td>[417, 662, 1562, 5292, 5541, 6039, 6227, 6660,...</td>\n",
       "      <td>10</td>\n",
       "    </tr>\n",
       "    <tr>\n",
       "      <td>9998</td>\n",
       "      <td>9998</td>\n",
       "      <td>[26, 5115, 6884, 7212, 7316, 8555, 8632, 8744,...</td>\n",
       "      <td>10</td>\n",
       "    </tr>\n",
       "    <tr>\n",
       "      <td>9999</td>\n",
       "      <td>9999</td>\n",
       "      <td>[905, 2532, 3577, 4572, 4620, 6130, 6167, 6775...</td>\n",
       "      <td>10</td>\n",
       "    </tr>\n",
       "  </tbody>\n",
       "</table>\n",
       "<p>10000 rows × 3 columns</p>\n",
       "</div>"
      ],
      "text/plain": [
       "      index                                        connections  \\\n",
       "0         0  [8717, 2722, 7378, 8727, 686, 3479, 7071, 5302...   \n",
       "1         1  [6444, 8462, 7485, 3991, 9335, 1666, 1606, 143...   \n",
       "2         2  [3456, 8839, 3806, 3254, 2379, 6747, 6800, 637...   \n",
       "3         3  [1840, 1374, 8839, 2390, 1821, 1638, 3270, 669...   \n",
       "4         4  [9405, 2179, 9055, 6740, 6992, 8951, 812, 6672...   \n",
       "...     ...                                                ...   \n",
       "9995   9995  [1599, 2332, 2576, 4103, 6286, 8174, 8336, 863...   \n",
       "9996   9996  [712, 1132, 2536, 3717, 5988, 7187, 8079, 9236...   \n",
       "9997   9997  [417, 662, 1562, 5292, 5541, 6039, 6227, 6660,...   \n",
       "9998   9998  [26, 5115, 6884, 7212, 7316, 8555, 8632, 8744,...   \n",
       "9999   9999  [905, 2532, 3577, 4572, 4620, 6130, 6167, 6775...   \n",
       "\n",
       "      num_connections  \n",
       "0                  10  \n",
       "1                  10  \n",
       "2                  10  \n",
       "3                  10  \n",
       "4                  10  \n",
       "...               ...  \n",
       "9995               10  \n",
       "9996               10  \n",
       "9997               10  \n",
       "9998               10  \n",
       "9999               10  \n",
       "\n",
       "[10000 rows x 3 columns]"
      ]
     },
     "execution_count": 38,
     "metadata": {},
     "output_type": "execute_result"
    }
   ],
   "source": [
    "%%time\n",
    "connections.create_connections(verbose=False)"
   ]
  },
  {
   "cell_type": "code",
   "execution_count": 36,
   "metadata": {},
   "outputs": [
    {
     "data": {
      "text/plain": [
       "1.220855712890625"
      ]
     },
     "execution_count": 36,
     "metadata": {},
     "output_type": "execute_result"
    }
   ],
   "source": [
    "sys.getsizeof(connections.population)/1024/1024"
   ]
  },
  {
   "cell_type": "code",
   "execution_count": null,
   "metadata": {},
   "outputs": [],
   "source": [
    "agent = 2\n",
    "connection = 5"
   ]
  },
  {
   "cell_type": "code",
   "execution_count": null,
   "metadata": {},
   "outputs": [],
   "source": [
    "population.iloc[[agent,connection],2] += 1"
   ]
  },
  {
   "cell_type": "code",
   "execution_count": null,
   "metadata": {},
   "outputs": [],
   "source": [
    "connections.population.head(10)\n"
   ]
  },
  {
   "cell_type": "code",
   "execution_count": null,
   "metadata": {},
   "outputs": [],
   "source": []
  },
  {
   "cell_type": "code",
   "execution_count": null,
   "metadata": {},
   "outputs": [],
   "source": [
    "%%time\n",
    "data = run_experiment(num_connections=3,base=100,start=1,stop=5)"
   ]
  },
  {
   "cell_type": "code",
   "execution_count": null,
   "metadata": {},
   "outputs": [],
   "source": [
    "!touch experiment.py"
   ]
  },
  {
   "cell_type": "code",
   "execution_count": null,
   "metadata": {},
   "outputs": [],
   "source": [
    "_start = time.time()\n",
    "_.create_connections()\n",
    "_end = time.time()\n",
    "print(float('{:.2f}'.format(_end-_start)))"
   ]
  },
  {
   "cell_type": "code",
   "execution_count": null,
   "metadata": {},
   "outputs": [],
   "source": [
    "_.population"
   ]
  },
  {
   "cell_type": "code",
   "execution_count": null,
   "metadata": {},
   "outputs": [],
   "source": []
  }
 ],
 "metadata": {
  "kernelspec": {
   "display_name": "Python 3",
   "language": "python",
   "name": "python3"
  },
  "language_info": {
   "codemirror_mode": {
    "name": "ipython",
    "version": 3
   },
   "file_extension": ".py",
   "mimetype": "text/x-python",
   "name": "python",
   "nbconvert_exporter": "python",
   "pygments_lexer": "ipython3",
   "version": "3.7.4"
  },
  "toc": {
   "base_numbering": 1,
   "nav_menu": {},
   "number_sections": true,
   "sideBar": true,
   "skip_h1_title": false,
   "title_cell": "Table of Contents",
   "title_sidebar": "Contents",
   "toc_cell": true,
   "toc_position": {},
   "toc_section_display": true,
   "toc_window_display": true
  }
 },
 "nbformat": 4,
 "nbformat_minor": 4
}
