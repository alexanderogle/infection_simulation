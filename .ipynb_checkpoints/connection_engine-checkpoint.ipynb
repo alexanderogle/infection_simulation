{
 "cells": [
  {
   "cell_type": "markdown",
   "metadata": {
    "toc": true
   },
   "source": [
    "<h1>Table of Contents<span class=\"tocSkip\"></span></h1>\n",
    "<div class=\"toc\"><ul class=\"toc-item\"><li><span><a href=\"#Preamble\" data-toc-modified-id=\"Preamble-1\"><span class=\"toc-item-num\">1&nbsp;&nbsp;</span>Preamble</a></span><ul class=\"toc-item\"><li><span><a href=\"#Imports\" data-toc-modified-id=\"Imports-1.1\"><span class=\"toc-item-num\">1.1&nbsp;&nbsp;</span>Imports</a></span></li><li><span><a href=\"#Classes\" data-toc-modified-id=\"Classes-1.2\"><span class=\"toc-item-num\">1.2&nbsp;&nbsp;</span>Classes</a></span></li></ul></li><li><span><a href=\"#Main\" data-toc-modified-id=\"Main-2\"><span class=\"toc-item-num\">2&nbsp;&nbsp;</span>Main</a></span></li></ul></div>"
   ]
  },
  {
   "cell_type": "markdown",
   "metadata": {},
   "source": [
    "# Preamble"
   ]
  },
  {
   "cell_type": "markdown",
   "metadata": {},
   "source": [
    "## Imports"
   ]
  },
  {
   "cell_type": "code",
   "execution_count": 1,
   "metadata": {},
   "outputs": [],
   "source": [
    "import pandas as pd\n",
    "import numpy as np\n",
    "import time\n",
    "import sys\n",
    "import resource\n",
    "from datetime import datetime\n",
    "from concurrent.futures import ThreadPoolExecutor\n",
    "sys.setrecursionlimit(10**6)"
   ]
  },
  {
   "cell_type": "markdown",
   "metadata": {},
   "source": [
    "## Classes"
   ]
  },
  {
   "cell_type": "code",
   "execution_count": 2,
   "metadata": {},
   "outputs": [],
   "source": [
    "class MemoryMonitor:\n",
    "    def __init__(self):\n",
    "        self.keep_measuring = True\n",
    "\n",
    "    def measure_usage(self):\n",
    "        max_usage = 0\n",
    "        usage = []\n",
    "        while self.keep_measuring:\n",
    "            max_usage = max(\n",
    "                max_usage,\n",
    "                resource.getrusage(resource.RUSAGE_SELF).ru_maxrss\n",
    "            )\n",
    "            \n",
    "            time.sleep(0.1)\n",
    "\n",
    "        return max_usage"
   ]
  },
  {
   "cell_type": "code",
   "execution_count": 3,
   "metadata": {},
   "outputs": [],
   "source": [
    "class ConnectionEngine():\n",
    "    def __init__(self,num_people=None,num_connections=None):\n",
    "        self.num_people = num_people\n",
    "        self.num_connections = num_connections\n",
    "\n",
    "    def _build_connection_list(self,agent,population,num_connections):\n",
    "        # Break ounter\n",
    "        #if _cnt == 0:\n",
    "        #    _cnt += 1\n",
    "        # Return IDs of people with connections less than num_connections\n",
    "        available_to_connect = (\n",
    "            lambda agent,population: population.drop(agent).query('num_connections < {}'\n",
    "                                                                     .format(num_connections)\n",
    "                                                                    ).index\n",
    "        )\n",
    "\n",
    "        ## Update number of connections\n",
    "        #population['num_connections'] = population.connections.apply(len)\n",
    "        # Get other agents available to connect\n",
    "        start_time = time.time()\n",
    "        available = available_to_connect(agent,population)\n",
    "        end_time = time.time()\n",
    "        runtime = end_time - start_time\n",
    "        print(f'available_to_connect() runtime: {runtime}')\n",
    "        \n",
    "        # Randomly choose connection\n",
    "        start_time = time.time()\n",
    "        if len(available) > 0:\n",
    "            connection = np.random.choice(available)\n",
    "            # Make connection\n",
    "            population.iloc[connection].connections.append(agent)\n",
    "            population.iloc[agent].connections.append(connection)\n",
    "\n",
    "            # Update number of connections\n",
    "            population.iloc[[agent,connection],2] += 1\n",
    "            #if _cnt < 10:\n",
    "            while population.num_connections[agent] < num_connections:\n",
    "                self._build_connection_list(agent,\n",
    "                                       population,\n",
    "                                       num_connections)\n",
    "        end_time = time.time()\n",
    "        runtime = time.time()\n",
    "        print(f'randomly choose connection runtime: {runtime}')\n",
    "\n",
    "        return population\n",
    "    \n",
    "    def create_connections(self,verbose=False):\n",
    "        num_connections = self.num_connections\n",
    "        num_people = self.num_people\n",
    "        population = pd.DataFrame(\n",
    "            {\n",
    "                'index': [i for i in range(num_people)],\n",
    "                'connections': [[] for i in range(num_people)],\n",
    "                'num_connections': [0 for i in range(num_people)]\n",
    "            }\n",
    "        )\n",
    "        \n",
    "        _update = num_people*0.1\n",
    "        for _per in population.index:\n",
    "            if verbose:\n",
    "                if _per % _update == 0:\n",
    "                    print('{:.0f}% complete'.format(_per/num_people*100))\n",
    "            self._build_connection_list(_per,population,num_connections)\n",
    "            \n",
    "        self.population = population\n",
    "        \n",
    "        return population\n",
    "            \n"
   ]
  },
  {
   "cell_type": "code",
   "execution_count": 4,
   "metadata": {},
   "outputs": [],
   "source": [
    "class ConnectionsExperiment():\n",
    "    def __init__(self,num_people=None,num_connections=None):\n",
    "        self.num_people = num_people\n",
    "        self.num_connections = num_connections\n",
    "        self.data = []\n",
    "        \n",
    "    def single_experiment(self,num_connections=None,num_people=None):\n",
    "        if num_connections is None:\n",
    "            num_connections = self.num_connections\n",
    "        if num_people is None:\n",
    "            num_people = self.num_people\n",
    "        start = time.time()\n",
    "        xns = ConnectionEngine(num_people=num_people,num_connections=num_connections)\n",
    "        xns.create_connections()\n",
    "        del xns\n",
    "        end = time.time()\n",
    "        output = {\n",
    "            'num_people': num_people,\n",
    "            'num_connections': num_connections,\n",
    "            'time': end-start\n",
    "        }\n",
    "        \n",
    "        return output\n",
    "    def multiple_experiments(self):\n",
    "        num_people = self.num_people\n",
    "        num_connections = self.num_connections\n",
    "        \n",
    "        # Allows handling of single run\n",
    "        if isinstance(num_people,int):\n",
    "            num_people = [num_people]\n",
    "        if isinstance(num_connections,int):\n",
    "            num_connections = [num_connections]\n",
    "\n",
    "        for _np in num_people:\n",
    "            for _nc in num_connections:\n",
    "                try:\n",
    "                    # Successful run\n",
    "                    output = self.single_experiment(num_people=_np,num_connections=_nc)\n",
    "                \n",
    "                except:\n",
    "                    # Bad run\n",
    "                    output = {\n",
    "                        'num_people': num_people,\n",
    "                        'num_connections': num_connections,\n",
    "                        'time': None\n",
    "                    }\n",
    "                self.data.append(output)\n",
    "        return self.data\n"
   ]
  },
  {
   "cell_type": "markdown",
   "metadata": {},
   "source": [
    "# Main"
   ]
  },
  {
   "cell_type": "markdown",
   "metadata": {},
   "source": [
    "For some reason, only works with function outside of class"
   ]
  },
  {
   "cell_type": "code",
   "execution_count": 5,
   "metadata": {},
   "outputs": [],
   "source": [
    "experiment = ConnectionsExperiment(num_people=[100,100,100],num_connections=[5,6,7])"
   ]
  },
  {
   "cell_type": "code",
   "execution_count": 6,
   "metadata": {},
   "outputs": [
    {
     "name": "stdout",
     "output_type": "stream",
     "text": [
      "Peak memory usage: 98762752\n"
     ]
    }
   ],
   "source": [
    "with ThreadPoolExecutor() as executor:\n",
    "    monitor = MemoryMonitor()\n",
    "    mem_thread = executor.submit(monitor.measure_usage)\n",
    "    try:\n",
    "        fn_thread = executor.submit(experiment.multiple_experiments())\n",
    "    finally:\n",
    "        monitor.keep_measuring = False\n",
    "        max_usage = mem_thread.result()\n",
    "        \n",
    "    print(f\"Peak memory usage: {max_usage}\")"
   ]
  },
  {
   "cell_type": "code",
   "execution_count": 7,
   "metadata": {},
   "outputs": [
    {
     "data": {
      "text/plain": [
       "[{'num_people': 100, 'num_connections': 5, 'time': 1.0704131126403809},\n",
       " {'num_people': 100, 'num_connections': 6, 'time': 1.1493897438049316},\n",
       " {'num_people': 100, 'num_connections': 7, 'time': 1.353506088256836},\n",
       " {'num_people': 100, 'num_connections': 5, 'time': 0.9503297805786133},\n",
       " {'num_people': 100, 'num_connections': 6, 'time': 1.1792058944702148},\n",
       " {'num_people': 100, 'num_connections': 7, 'time': 1.3314261436462402},\n",
       " {'num_people': 100, 'num_connections': 5, 'time': 0.9856729507446289},\n",
       " {'num_people': 100, 'num_connections': 6, 'time': 1.151686191558838},\n",
       " {'num_people': 100, 'num_connections': 7, 'time': 1.3321311473846436}]"
      ]
     },
     "execution_count": 7,
     "metadata": {},
     "output_type": "execute_result"
    }
   ],
   "source": [
    "experiment.data"
   ]
  },
  {
   "cell_type": "code",
   "execution_count": 10,
   "metadata": {},
   "outputs": [
    {
     "data": {
      "text/plain": [
       "<Future at 0x11b5d4890 state=finished raised TypeError>"
      ]
     },
     "execution_count": 10,
     "metadata": {},
     "output_type": "execute_result"
    }
   ],
   "source": [
    "result"
   ]
  },
  {
   "cell_type": "code",
   "execution_count": null,
   "metadata": {},
   "outputs": [],
   "source": []
  }
 ],
 "metadata": {
  "kernelspec": {
   "display_name": "Python 3",
   "language": "python",
   "name": "python3"
  },
  "language_info": {
   "codemirror_mode": {
    "name": "ipython",
    "version": 3
   },
   "file_extension": ".py",
   "mimetype": "text/x-python",
   "name": "python",
   "nbconvert_exporter": "python",
   "pygments_lexer": "ipython3",
   "version": "3.7.7"
  },
  "toc": {
   "base_numbering": 1,
   "nav_menu": {},
   "number_sections": true,
   "sideBar": true,
   "skip_h1_title": false,
   "title_cell": "Table of Contents",
   "title_sidebar": "Contents",
   "toc_cell": true,
   "toc_position": {},
   "toc_section_display": true,
   "toc_window_display": true
  }
 },
 "nbformat": 4,
 "nbformat_minor": 4
}
