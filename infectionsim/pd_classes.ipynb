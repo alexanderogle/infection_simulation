{
 "cells": [
  {
   "cell_type": "markdown",
   "metadata": {
    "toc": true
   },
   "source": [
    "<h1>Table of Contents<span class=\"tocSkip\"></span></h1>\n",
    "<div class=\"toc\"><ul class=\"toc-item\"><li><span><a href=\"#Preamble\" data-toc-modified-id=\"Preamble-1\"><span class=\"toc-item-num\">1&nbsp;&nbsp;</span>Preamble</a></span><ul class=\"toc-item\"><li><span><a href=\"#Imports\" data-toc-modified-id=\"Imports-1.1\"><span class=\"toc-item-num\">1.1&nbsp;&nbsp;</span>Imports</a></span></li></ul></li><li><span><a href=\"#Testing\" data-toc-modified-id=\"Testing-2\"><span class=\"toc-item-num\">2&nbsp;&nbsp;</span>Testing</a></span></li></ul></div>"
   ]
  },
  {
   "cell_type": "markdown",
   "metadata": {},
   "source": [
    "# Preamble"
   ]
  },
  {
   "cell_type": "markdown",
   "metadata": {},
   "source": [
    "## Imports"
   ]
  },
  {
   "cell_type": "code",
   "execution_count": 173,
   "metadata": {},
   "outputs": [],
   "source": [
    "import random as r\n",
    "import pandas as pd"
   ]
  },
  {
   "cell_type": "code",
   "execution_count": 167,
   "metadata": {},
   "outputs": [],
   "source": [
    "from data_structs import Person, Network"
   ]
  },
  {
   "cell_type": "code",
   "execution_count": 161,
   "metadata": {},
   "outputs": [],
   "source": [
    "class Population():\n",
    "    \n",
    "    def __init__(self,id=None,population=None):\n",
    "        self.people = pd.DataFrame(\n",
    "            [{\n",
    "                'per_id':i,\n",
    "                'state':'sus',\n",
    "                'infection_date': 'NaN',\n",
    "                'death_date': 'NaN'\n",
    "            } for i in range(0,population)]).set_index('per_id')\n",
    "        self.id = id\n",
    "        \n",
    "    def add_person(self, state='sus',infection_date='NaN',death_date='NaN'):\n",
    "        self.people = self.people.append(\n",
    "            {\n",
    "                'state':state,\n",
    "                'infection_date': infection_date,\n",
    "                'death_date': death_date\n",
    "            }\n",
    "            ,ignore_index=True)\n",
    "        \n",
    "    def update_person_state(self, per_id, state):\n",
    "        self.people.iloc[per_id].state = state\n",
    "        \n",
    "    def infect_person(self, per_id, day):\n",
    "        if isinstance(per_id,int):\n",
    "            self.people.iloc[per_id]['infection_date','state'] = [day,'inf']\n",
    "        else:\n",
    "            for i in per_id:\n",
    "                self.people.iloc[i]['infection_date','state'] = [day,'inf']\n",
    "            \n",
    "    def get_population_size(self):\n",
    "        return len(self.people)\n",
    "    \n",
    "    def get_population(self):\n",
    "        \"\"\" Returns the people dict of this population object.\n",
    "        The people dict should have the following format:\n",
    "\n",
    "            people = {person_id_int_1: Person_object_1,\n",
    "                      .\n",
    "                      .\n",
    "                      .\n",
    "                      person_id_int_n: Person_object_n\n",
    "                      }\n",
    "        \"\"\"\n",
    "        return self.people\n",
    "    \n",
    "    def count_infected(self):\n",
    "        return self.people.state.value_counts()['inf']\n",
    "    \n",
    "    def count_states(self):\n",
    "        return self.people.state.value_counts()"
   ]
  },
  {
   "cell_type": "markdown",
   "metadata": {},
   "source": [
    "# Testing"
   ]
  },
  {
   "cell_type": "code",
   "execution_count": 162,
   "metadata": {},
   "outputs": [],
   "source": [
    "cityville = Population(0,10)"
   ]
  },
  {
   "cell_type": "code",
   "execution_count": 163,
   "metadata": {},
   "outputs": [],
   "source": [
    "cityville.add_person()"
   ]
  },
  {
   "cell_type": "code",
   "execution_count": 164,
   "metadata": {},
   "outputs": [],
   "source": [
    "cityville.update_person_state(2,'gay')"
   ]
  },
  {
   "cell_type": "code",
   "execution_count": 165,
   "metadata": {},
   "outputs": [],
   "source": [
    "cityville.infect_person([0,1],3)"
   ]
  },
  {
   "cell_type": "code",
   "execution_count": 166,
   "metadata": {},
   "outputs": [
    {
     "data": {
      "text/plain": [
       "sus    8\n",
       "inf    2\n",
       "gay    1\n",
       "Name: state, dtype: int64"
      ]
     },
     "execution_count": 166,
     "metadata": {},
     "output_type": "execute_result"
    }
   ],
   "source": [
    "cityville.count_states()"
   ]
  },
  {
   "cell_type": "code",
   "execution_count": 198,
   "metadata": {},
   "outputs": [],
   "source": [
    "network = Network(cityville)"
   ]
  },
  {
   "cell_type": "code",
   "execution_count": 199,
   "metadata": {},
   "outputs": [
    {
     "data": {
      "text/html": [
       "<div>\n",
       "<style scoped>\n",
       "    .dataframe tbody tr th:only-of-type {\n",
       "        vertical-align: middle;\n",
       "    }\n",
       "\n",
       "    .dataframe tbody tr th {\n",
       "        vertical-align: top;\n",
       "    }\n",
       "\n",
       "    .dataframe thead th {\n",
       "        text-align: right;\n",
       "    }\n",
       "</style>\n",
       "<table border=\"1\" class=\"dataframe\">\n",
       "  <thead>\n",
       "    <tr style=\"text-align: right;\">\n",
       "      <th></th>\n",
       "      <th>per_id</th>\n",
       "      <th>connections</th>\n",
       "    </tr>\n",
       "  </thead>\n",
       "  <tbody>\n",
       "  </tbody>\n",
       "</table>\n",
       "</div>"
      ],
      "text/plain": [
       "Empty DataFrame\n",
       "Columns: [per_id, connections]\n",
       "Index: []"
      ]
     },
     "execution_count": 199,
     "metadata": {},
     "output_type": "execute_result"
    }
   ],
   "source": [
    "network.network"
   ]
  },
  {
   "cell_type": "code",
   "execution_count": 200,
   "metadata": {},
   "outputs": [],
   "source": []
  },
  {
   "cell_type": "code",
   "execution_count": 178,
   "metadata": {},
   "outputs": [],
   "source": [
    "pop_size = network.population.get_population_size()"
   ]
  },
  {
   "cell_type": "code",
   "execution_count": 181,
   "metadata": {},
   "outputs": [
    {
     "data": {
      "text/plain": [
       "0"
      ]
     },
     "execution_count": 181,
     "metadata": {},
     "output_type": "execute_result"
    }
   ],
   "source": [
    "network.population.people.index.min()"
   ]
  },
  {
   "cell_type": "code",
   "execution_count": 337,
   "metadata": {},
   "outputs": [],
   "source": [
    "class Network():\n",
    "    \"\"\" Network class which constructs a network for a population.\n",
    "\n",
    "    This class allows writing out and reading in of network files, which track\n",
    "    change of state for connections between persons within a population, allowing\n",
    "    for simulations of networks which are temporally variant.\n",
    "\n",
    "    Once a Network object is initialized, its network can be accessed with the\n",
    "    Network.get_network() method. This method returns the network dict which\n",
    "    contains all the connection lists.\n",
    "    \"\"\"\n",
    "    def __init__(self, population,conn_min=0,conn_max=5):\n",
    "        self.population = population\n",
    "        self.network = self.population.people.filter('index')\n",
    "        self.network['connections'] = None\n",
    "        self.conn_min = conn_min\n",
    "        self.conn_max = conn_max\n",
    "        \n",
    "    def _get_connections(self,connections):\n",
    "        num_connections = r.randint(self.conn_min,self.conn_max)\n",
    "        conn_min = self.population.people.index.min()\n",
    "        conn_max = self.population.people.index.max()\n",
    "        connections = []\n",
    "        for i in range(0, num_connections):\n",
    "            conn_id = r.randint(conn_min,conn_max)\n",
    "            while conn_id in connections:\n",
    "                conn_id = r.randint(conn_min,conn_max)\n",
    "            connections.append(conn_id)\n",
    "        return connections\n",
    "    \n",
    "    def get_connections(self):\n",
    "        self.network.connections = self.network.connections.apply(self._get_connections)"
   ]
  },
  {
   "cell_type": "code",
   "execution_count": 347,
   "metadata": {},
   "outputs": [],
   "source": [
    "network = Network(Population(id=0,population=1000000))"
   ]
  },
  {
   "cell_type": "code",
   "execution_count": null,
   "metadata": {
    "scrolled": false
   },
   "outputs": [],
   "source": [
    "%%timeit\n",
    "network.get_connections()"
   ]
  },
  {
   "cell_type": "code",
   "execution_count": 344,
   "metadata": {},
   "outputs": [],
   "source": [
    "from data_structs import Network as Network_orig\n",
    "from data_structs import Population as Population_orig"
   ]
  },
  {
   "cell_type": "code",
   "execution_count": 345,
   "metadata": {
    "scrolled": true
   },
   "outputs": [],
   "source": [
    "network_orig = Network_orig(Population_orig(0,1000000))"
   ]
  },
  {
   "cell_type": "code",
   "execution_count": 346,
   "metadata": {},
   "outputs": [
    {
     "name": "stdout",
     "output_type": "stream",
     "text": [
      "88.5 ms ± 29.6 ms per loop (mean ± std. dev. of 7 runs, 10 loops each)\n"
     ]
    }
   ],
   "source": [
    "%%timeit\n",
    "network_orig.init_random_network(0,5,23)"
   ]
  },
  {
   "cell_type": "code",
   "execution_count": null,
   "metadata": {},
   "outputs": [],
   "source": [
    "def init_random_network(self, connection_min, connection_max, seed_num, verbose=False):\n",
    "    r.seed(seed_num)\n",
    "    pop = self.population.get_population()\n",
    "    pop_size =len(pop)\n",
    "\n",
    "    completion_percent = 0\n",
    "    for person_id in pop:\n",
    "        num_connections = r.randint(connection_min, connection_max)\n",
    "        connections_list = []\n",
    "        for i in range(0, num_connections):\n",
    "            # Get a random person_id\n",
    "            connection_id = r.randint(0, pop_size-1)\n",
    "            # Ensure it isn't in the connections_list\n",
    "            while(connection_id in connections_list):\n",
    "                connection_id = r.randint(0, pop_size-1)\n",
    "            # Add the random person_id to the connections_list\n",
    "            connections_list.append(connection_id)\n",
    "            completion_percent = (person_id / pop_size) * 100\n",
    "            if(verbose):\n",
    "                print(\"Generating random network: \" + str(completion_percent) + \"%\")\n",
    "        # Add the connections list to the network dict\n",
    "        self.network[person_id] = connections_list"
   ]
  },
  {
   "cell_type": "code",
   "execution_count": 171,
   "metadata": {},
   "outputs": [],
   "source": [
    "connection_min = 0\n",
    "connection_max = 5"
   ]
  },
  {
   "cell_type": "code",
   "execution_count": 175,
   "metadata": {},
   "outputs": [
    {
     "data": {
      "text/plain": [
       "4"
      ]
     },
     "execution_count": 175,
     "metadata": {},
     "output_type": "execute_result"
    }
   ],
   "source": [
    "r.randint(connection_min, connection_max)"
   ]
  },
  {
   "cell_type": "code",
   "execution_count": 186,
   "metadata": {},
   "outputs": [
    {
     "ename": "ValueError",
     "evalue": "cannot use columns parameter with orient='columns'",
     "output_type": "error",
     "traceback": [
      "\u001b[0;31m---------------------------------------------------------------------------\u001b[0m",
      "\u001b[0;31mValueError\u001b[0m                                Traceback (most recent call last)",
      "\u001b[0;32m<ipython-input-186-c7dcc4f8baa9>\u001b[0m in \u001b[0;36m<module>\u001b[0;34m\u001b[0m\n\u001b[0;32m----> 1\u001b[0;31m \u001b[0mpd\u001b[0m\u001b[0;34m.\u001b[0m\u001b[0mDataFrame\u001b[0m\u001b[0;34m.\u001b[0m\u001b[0mfrom_dict\u001b[0m\u001b[0;34m(\u001b[0m\u001b[0mnetwork\u001b[0m\u001b[0;34m.\u001b[0m\u001b[0mnetwork\u001b[0m\u001b[0;34m,\u001b[0m\u001b[0mcolumns\u001b[0m\u001b[0;34m=\u001b[0m\u001b[0;34m[\u001b[0m\u001b[0;34m'per_id'\u001b[0m\u001b[0;34m,\u001b[0m\u001b[0;34m'connections'\u001b[0m\u001b[0;34m]\u001b[0m\u001b[0;34m)\u001b[0m\u001b[0;34m\u001b[0m\u001b[0;34m\u001b[0m\u001b[0m\n\u001b[0m",
      "\u001b[0;32m/Users/Shared/anaconda3/lib/python3.7/site-packages/pandas/core/frame.py\u001b[0m in \u001b[0;36mfrom_dict\u001b[0;34m(cls, data, orient, dtype, columns)\u001b[0m\n\u001b[1;32m   1131\u001b[0m         \u001b[0;32melif\u001b[0m \u001b[0morient\u001b[0m \u001b[0;34m==\u001b[0m \u001b[0;34m'columns'\u001b[0m\u001b[0;34m:\u001b[0m\u001b[0;34m\u001b[0m\u001b[0;34m\u001b[0m\u001b[0m\n\u001b[1;32m   1132\u001b[0m             \u001b[0;32mif\u001b[0m \u001b[0mcolumns\u001b[0m \u001b[0;32mis\u001b[0m \u001b[0;32mnot\u001b[0m \u001b[0;32mNone\u001b[0m\u001b[0;34m:\u001b[0m\u001b[0;34m\u001b[0m\u001b[0;34m\u001b[0m\u001b[0m\n\u001b[0;32m-> 1133\u001b[0;31m                 raise ValueError(\"cannot use columns parameter with \"\n\u001b[0m\u001b[1;32m   1134\u001b[0m                                  \"orient='columns'\")\n\u001b[1;32m   1135\u001b[0m         \u001b[0;32melse\u001b[0m\u001b[0;34m:\u001b[0m  \u001b[0;31m# pragma: no cover\u001b[0m\u001b[0;34m\u001b[0m\u001b[0;34m\u001b[0m\u001b[0m\n",
      "\u001b[0;31mValueError\u001b[0m: cannot use columns parameter with orient='columns'"
     ]
    }
   ],
   "source": [
    "pd.DataFrame.from_dict(network.network,columns=['per_id','connections'])"
   ]
  },
  {
   "cell_type": "code",
   "execution_count": null,
   "metadata": {},
   "outputs": [],
   "source": []
  }
 ],
 "metadata": {
  "kernelspec": {
   "display_name": "Python 3",
   "language": "python",
   "name": "python3"
  },
  "language_info": {
   "codemirror_mode": {
    "name": "ipython",
    "version": 3
   },
   "file_extension": ".py",
   "mimetype": "text/x-python",
   "name": "python",
   "nbconvert_exporter": "python",
   "pygments_lexer": "ipython3",
   "version": "3.7.3"
  },
  "toc": {
   "base_numbering": 1,
   "nav_menu": {},
   "number_sections": true,
   "sideBar": true,
   "skip_h1_title": false,
   "title_cell": "Table of Contents",
   "title_sidebar": "Contents",
   "toc_cell": true,
   "toc_position": {},
   "toc_section_display": true,
   "toc_window_display": true
  }
 },
 "nbformat": 4,
 "nbformat_minor": 2
}
